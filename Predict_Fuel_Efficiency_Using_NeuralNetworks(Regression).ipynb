{
  "nbformat": 4,
  "nbformat_minor": 0,
  "metadata": {
    "colab": {
      "provenance": [],
      "include_colab_link": true
    },
    "kernelspec": {
      "display_name": "Python 3",
      "name": "python3"
    },
    "accelerator": "GPU"
  },
  "cells": [
    {
      "cell_type": "markdown",
      "metadata": {
        "id": "view-in-github",
        "colab_type": "text"
      },
      "source": [
        "<a href=\"https://colab.research.google.com/github/ZeeshanAhmed95/Fuel_Effiecncy_Prediction_using_NeuralNetworks/blob/main/Predict_Fuel_Efficiency_Using_NeuralNetworks(Regression).ipynb\" target=\"_parent\"><img src=\"https://colab.research.google.com/assets/colab-badge.svg\" alt=\"Open In Colab\"/></a>"
      ]
    },
    {
      "cell_type": "markdown",
      "metadata": {
        "id": "NRRJxiMRL9Op"
      },
      "source": [
        "----\n",
        "### **Table of Content**\n",
        "----\n",
        "\n",
        "**1**. [**Predict Fuel Efficiency Overview**](#section1)<br>\n",
        "\n",
        "**2**. [**The Auto MPG Dataset**](#section2)<br>\n",
        "  - **2.1** [**Get the Data**](#section21)<br>\n",
        "  - **2.2** [**Clean the Data**](#section22)<br>\n",
        "  - **2.3** [**Split the Data into Train and Test**](#section23)<br>\n",
        "  - **2.4** [**Inspect the Data**](#section24)<br>\n",
        "  - **2.5** [**Split Features from Labels**](#section25)<br>\n",
        "  - **2.6** [**Normalize the Data**](#section26)<br>\n",
        "\n",
        "**3**. [**The Model**](#section3)<br>\n",
        "  - **3.1** [**Build the Model**](#section31)<br>\n",
        "  - **3.2** [**Inspect the Model**](#section32)<br>\n",
        "  - **3.3** [**Train the Model**](#section33)<br>\n",
        "  - **3.4** [**Make Predictions**](#section34)<br>\n",
        "\n",
        "**4**. [**Model Tuning**](#section4)<br>\n",
        "  - **4.1** [**Increasing the Number of Hidden Layers and Hidden Units**](#section41)<br>\n",
        "  - **4.2** [**Weight Regularization**](#section42)<br>\n",
        "  - **4.3** [**Dropout**](#section43)<br>\n",
        "  - **4.4** [**Combined L2 + Dropout**](#section44)<br>\n",
        "  - **4.5** [**Batch Normalization**](#section45)<br>\n",
        "\n",
        "**5**. [**Conclusion**](#section5)<br>"
      ]
    },
    {
      "cell_type": "markdown",
      "metadata": {
        "id": "EIdT9iu_Z4Rb"
      },
      "source": [
        "<a name=section1></a>\n",
        "\n",
        "----\n",
        "## **1. Predict Fuel Efficiency Overview**\n",
        "----"
      ]
    },
    {
      "cell_type": "markdown",
      "metadata": {
        "id": "AHp3M9ZmrIxj"
      },
      "source": [
        "- We will use the [Auto MPG](https://archive.ics.uci.edu/ml/datasets/auto+mpg) Dataset and build a model to predict the fuel efficiency of late-1970s and early 1980s automobiles.\n",
        "\n",
        "- To do this, we'll provide the model with a description of many automobiles from that time period.\n",
        "\n",
        "  - This description includes attributes like: cylinders, displacement, horsepower, and weight."
      ]
    },
    {
      "cell_type": "markdown",
      "metadata": {
        "id": "FhDnt1nZPGcK"
      },
      "source": [
        "<center><img src=\"https://raw.githubusercontent.com/insaid2018/DeepLearning/master/images/fuel-efficiency.png\" width=\"500\" /></center>"
      ]
    },
    {
      "cell_type": "code",
      "metadata": {
        "id": "moB4tpEHxKB3",
        "colab": {
          "base_uri": "https://localhost:8080/"
        },
        "outputId": "3ff6e598-0354-4f0c-82e3-4932366d2059"
      },
      "source": [
        "# To use some functions from tensorflow_docs\n",
        "!pip install git+https://github.com/tensorflow/docs"
      ],
      "execution_count": null,
      "outputs": [
        {
          "output_type": "stream",
          "name": "stdout",
          "text": [
            "Looking in indexes: https://pypi.org/simple, https://us-python.pkg.dev/colab-wheels/public/simple/\n",
            "Collecting git+https://github.com/tensorflow/docs\n",
            "  Cloning https://github.com/tensorflow/docs to /tmp/pip-req-build-gpkg0k5j\n",
            "  Running command git clone --filter=blob:none --quiet https://github.com/tensorflow/docs /tmp/pip-req-build-gpkg0k5j\n",
            "  Resolved https://github.com/tensorflow/docs to commit 82c1d10782be2714b3ece1f59c05082195474ce9\n",
            "  Preparing metadata (setup.py) ... \u001b[?25l\u001b[?25hdone\n",
            "Collecting astor (from tensorflow-docs==2023.5.26.9808)\n",
            "  Downloading astor-0.8.1-py2.py3-none-any.whl (27 kB)\n",
            "Requirement already satisfied: absl-py in /usr/local/lib/python3.10/dist-packages (from tensorflow-docs==2023.5.26.9808) (1.4.0)\n",
            "Requirement already satisfied: jinja2 in /usr/local/lib/python3.10/dist-packages (from tensorflow-docs==2023.5.26.9808) (3.1.2)\n",
            "Requirement already satisfied: nbformat in /usr/local/lib/python3.10/dist-packages (from tensorflow-docs==2023.5.26.9808) (5.8.0)\n",
            "Requirement already satisfied: protobuf>=3.12 in /usr/local/lib/python3.10/dist-packages (from tensorflow-docs==2023.5.26.9808) (3.20.3)\n",
            "Requirement already satisfied: pyyaml in /usr/local/lib/python3.10/dist-packages (from tensorflow-docs==2023.5.26.9808) (6.0)\n",
            "Requirement already satisfied: MarkupSafe>=2.0 in /usr/local/lib/python3.10/dist-packages (from jinja2->tensorflow-docs==2023.5.26.9808) (2.1.2)\n",
            "Requirement already satisfied: fastjsonschema in /usr/local/lib/python3.10/dist-packages (from nbformat->tensorflow-docs==2023.5.26.9808) (2.16.3)\n",
            "Requirement already satisfied: jsonschema>=2.6 in /usr/local/lib/python3.10/dist-packages (from nbformat->tensorflow-docs==2023.5.26.9808) (4.3.3)\n",
            "Requirement already satisfied: jupyter-core in /usr/local/lib/python3.10/dist-packages (from nbformat->tensorflow-docs==2023.5.26.9808) (5.3.0)\n",
            "Requirement already satisfied: traitlets>=5.1 in /usr/local/lib/python3.10/dist-packages (from nbformat->tensorflow-docs==2023.5.26.9808) (5.7.1)\n",
            "Requirement already satisfied: attrs>=17.4.0 in /usr/local/lib/python3.10/dist-packages (from jsonschema>=2.6->nbformat->tensorflow-docs==2023.5.26.9808) (23.1.0)\n",
            "Requirement already satisfied: pyrsistent!=0.17.0,!=0.17.1,!=0.17.2,>=0.14.0 in /usr/local/lib/python3.10/dist-packages (from jsonschema>=2.6->nbformat->tensorflow-docs==2023.5.26.9808) (0.19.3)\n",
            "Requirement already satisfied: platformdirs>=2.5 in /usr/local/lib/python3.10/dist-packages (from jupyter-core->nbformat->tensorflow-docs==2023.5.26.9808) (3.3.0)\n",
            "Building wheels for collected packages: tensorflow-docs\n",
            "  Building wheel for tensorflow-docs (setup.py) ... \u001b[?25l\u001b[?25hdone\n",
            "  Created wheel for tensorflow-docs: filename=tensorflow_docs-2023.5.26.9808-py3-none-any.whl size=183623 sha256=0e6d03890df16fdc57173b7f476d6dc84fc7c171d56f9c01cc3a46fdae988f81\n",
            "  Stored in directory: /tmp/pip-ephem-wheel-cache-0u4h7j6n/wheels/86/0f/1e/3b62293c8ffd0fd5a49508e6871cdb7554abe9c62afd35ec53\n",
            "Successfully built tensorflow-docs\n",
            "Installing collected packages: astor, tensorflow-docs\n",
            "Successfully installed astor-0.8.1 tensorflow-docs-2023.5.26.9808\n"
          ]
        }
      ]
    },
    {
      "cell_type": "code",
      "metadata": {
        "id": "1rRo8oNqZ-Rj"
      },
      "source": [
        "import pathlib\n",
        "\n",
        "import numpy as np\n",
        "import pandas as pd\n",
        "\n",
        "import matplotlib.pyplot as plt\n",
        "%matplotlib inline\n",
        "\n",
        "import seaborn as sns"
      ],
      "execution_count": null,
      "outputs": []
    },
    {
      "cell_type": "code",
      "metadata": {
        "id": "OU_nxQFGP98H",
        "colab": {
          "base_uri": "https://localhost:8080/"
        },
        "outputId": "10ef733a-f442-496b-c725-836e929bb9fe"
      },
      "source": [
        "# Import tensorflow 2.x\n",
        "# This code block will only work in Google Colab.\n",
        "try:\n",
        "    # %tensorflow_version only exists in Colab.\n",
        "    %tensorflow_version 2.x\n",
        "except Exception:\n",
        "    pass"
      ],
      "execution_count": null,
      "outputs": [
        {
          "output_type": "stream",
          "name": "stdout",
          "text": [
            "Colab only includes TensorFlow 2.x; %tensorflow_version has no effect.\n"
          ]
        }
      ]
    },
    {
      "cell_type": "code",
      "metadata": {
        "id": "9xQKvCJ85kCQ",
        "colab": {
          "base_uri": "https://localhost:8080/"
        },
        "outputId": "0c4feb4b-2502-4020-f71f-17f02ebb4d11"
      },
      "source": [
        "import tensorflow as tf\n",
        "\n",
        "from tensorflow import keras\n",
        "from tensorflow.keras import layers\n",
        "\n",
        "print(tf.__version__)"
      ],
      "execution_count": null,
      "outputs": [
        {
          "output_type": "stream",
          "name": "stdout",
          "text": [
            "2.12.0\n"
          ]
        }
      ]
    },
    {
      "cell_type": "code",
      "metadata": {
        "id": "Qz4HfsgRQUiV"
      },
      "source": [
        "import tensorflow_docs as tfdocs\n",
        "import tensorflow_docs.plots\n",
        "import tensorflow_docs.modeling"
      ],
      "execution_count": null,
      "outputs": []
    },
    {
      "cell_type": "markdown",
      "metadata": {
        "id": "F_72b0LCNbjx"
      },
      "source": [
        "<a name=section2></a>\n",
        "\n",
        "----\n",
        "## **2. The Auto MPG Dataset**\n",
        "----\n",
        "\n",
        "The dataset is available on the [UCI Machine Learning Repository](https://archive.ics.uci.edu/ml/).\n"
      ]
    },
    {
      "cell_type": "markdown",
      "metadata": {
        "id": "gFh9ne3FZ-On"
      },
      "source": [
        "<a name=section21></a>\n",
        "\n",
        "### **2.1 Get the Data**\n",
        "\n",
        "- First download the dataset."
      ]
    },
    {
      "cell_type": "code",
      "metadata": {
        "id": "p9kxxgzvzlyz",
        "colab": {
          "base_uri": "https://localhost:8080/",
          "height": 54
        },
        "outputId": "2209506f-9a13-43ce-dc4d-bf409fe16079"
      },
      "source": [
        "dataset_path = keras.utils.get_file(\"auto-mpg.data\", \"http://archive.ics.uci.edu/ml/machine-learning-databases/auto-mpg/auto-mpg.data\")\n",
        "dataset_path"
      ],
      "execution_count": null,
      "outputs": [
        {
          "output_type": "stream",
          "name": "stdout",
          "text": [
            "Downloading data from http://archive.ics.uci.edu/ml/machine-learning-databases/auto-mpg/auto-mpg.data\n",
            "   8192/Unknown - 0s 0us/step"
          ]
        },
        {
          "output_type": "execute_result",
          "data": {
            "text/plain": [
              "'/root/.keras/datasets/auto-mpg.data'"
            ],
            "application/vnd.google.colaboratory.intrinsic+json": {
              "type": "string"
            }
          },
          "metadata": {},
          "execution_count": 6
        }
      ]
    },
    {
      "cell_type": "markdown",
      "metadata": {
        "id": "nslsRLh7Zss4"
      },
      "source": [
        "- Import it using pandas."
      ]
    },
    {
      "cell_type": "code",
      "metadata": {
        "id": "NMLT4mAkRFWu"
      },
      "source": [
        "column_names = ['MPG','Cylinders','Displacement','Horsepower','Weight', 'Acceleration', 'Model Year', 'Origin']"
      ],
      "execution_count": null,
      "outputs": []
    },
    {
      "cell_type": "code",
      "metadata": {
        "id": "CiX2FI4gZtTt",
        "colab": {
          "base_uri": "https://localhost:8080/",
          "height": 206
        },
        "outputId": "0f244703-b2d2-47ec-85c7-c435e6a84282"
      },
      "source": [
        "dataset = pd.read_csv(dataset_path, names=column_names, na_values=\"?\", comment='\\t', sep=\" \", skipinitialspace=True)\n",
        "dataset.head()"
      ],
      "execution_count": null,
      "outputs": [
        {
          "output_type": "execute_result",
          "data": {
            "text/plain": [
              "    MPG  Cylinders  Displacement  Horsepower  Weight  Acceleration  \\\n",
              "0  18.0          8         307.0       130.0  3504.0          12.0   \n",
              "1  15.0          8         350.0       165.0  3693.0          11.5   \n",
              "2  18.0          8         318.0       150.0  3436.0          11.0   \n",
              "3  16.0          8         304.0       150.0  3433.0          12.0   \n",
              "4  17.0          8         302.0       140.0  3449.0          10.5   \n",
              "\n",
              "   Model Year  Origin  \n",
              "0          70       1  \n",
              "1          70       1  \n",
              "2          70       1  \n",
              "3          70       1  \n",
              "4          70       1  "
            ],
            "text/html": [
              "\n",
              "  <div id=\"df-15a37785-0d18-4490-867d-bca8a799368e\">\n",
              "    <div class=\"colab-df-container\">\n",
              "      <div>\n",
              "<style scoped>\n",
              "    .dataframe tbody tr th:only-of-type {\n",
              "        vertical-align: middle;\n",
              "    }\n",
              "\n",
              "    .dataframe tbody tr th {\n",
              "        vertical-align: top;\n",
              "    }\n",
              "\n",
              "    .dataframe thead th {\n",
              "        text-align: right;\n",
              "    }\n",
              "</style>\n",
              "<table border=\"1\" class=\"dataframe\">\n",
              "  <thead>\n",
              "    <tr style=\"text-align: right;\">\n",
              "      <th></th>\n",
              "      <th>MPG</th>\n",
              "      <th>Cylinders</th>\n",
              "      <th>Displacement</th>\n",
              "      <th>Horsepower</th>\n",
              "      <th>Weight</th>\n",
              "      <th>Acceleration</th>\n",
              "      <th>Model Year</th>\n",
              "      <th>Origin</th>\n",
              "    </tr>\n",
              "  </thead>\n",
              "  <tbody>\n",
              "    <tr>\n",
              "      <th>0</th>\n",
              "      <td>18.0</td>\n",
              "      <td>8</td>\n",
              "      <td>307.0</td>\n",
              "      <td>130.0</td>\n",
              "      <td>3504.0</td>\n",
              "      <td>12.0</td>\n",
              "      <td>70</td>\n",
              "      <td>1</td>\n",
              "    </tr>\n",
              "    <tr>\n",
              "      <th>1</th>\n",
              "      <td>15.0</td>\n",
              "      <td>8</td>\n",
              "      <td>350.0</td>\n",
              "      <td>165.0</td>\n",
              "      <td>3693.0</td>\n",
              "      <td>11.5</td>\n",
              "      <td>70</td>\n",
              "      <td>1</td>\n",
              "    </tr>\n",
              "    <tr>\n",
              "      <th>2</th>\n",
              "      <td>18.0</td>\n",
              "      <td>8</td>\n",
              "      <td>318.0</td>\n",
              "      <td>150.0</td>\n",
              "      <td>3436.0</td>\n",
              "      <td>11.0</td>\n",
              "      <td>70</td>\n",
              "      <td>1</td>\n",
              "    </tr>\n",
              "    <tr>\n",
              "      <th>3</th>\n",
              "      <td>16.0</td>\n",
              "      <td>8</td>\n",
              "      <td>304.0</td>\n",
              "      <td>150.0</td>\n",
              "      <td>3433.0</td>\n",
              "      <td>12.0</td>\n",
              "      <td>70</td>\n",
              "      <td>1</td>\n",
              "    </tr>\n",
              "    <tr>\n",
              "      <th>4</th>\n",
              "      <td>17.0</td>\n",
              "      <td>8</td>\n",
              "      <td>302.0</td>\n",
              "      <td>140.0</td>\n",
              "      <td>3449.0</td>\n",
              "      <td>10.5</td>\n",
              "      <td>70</td>\n",
              "      <td>1</td>\n",
              "    </tr>\n",
              "  </tbody>\n",
              "</table>\n",
              "</div>\n",
              "      <button class=\"colab-df-convert\" onclick=\"convertToInteractive('df-15a37785-0d18-4490-867d-bca8a799368e')\"\n",
              "              title=\"Convert this dataframe to an interactive table.\"\n",
              "              style=\"display:none;\">\n",
              "        \n",
              "  <svg xmlns=\"http://www.w3.org/2000/svg\" height=\"24px\"viewBox=\"0 0 24 24\"\n",
              "       width=\"24px\">\n",
              "    <path d=\"M0 0h24v24H0V0z\" fill=\"none\"/>\n",
              "    <path d=\"M18.56 5.44l.94 2.06.94-2.06 2.06-.94-2.06-.94-.94-2.06-.94 2.06-2.06.94zm-11 1L8.5 8.5l.94-2.06 2.06-.94-2.06-.94L8.5 2.5l-.94 2.06-2.06.94zm10 10l.94 2.06.94-2.06 2.06-.94-2.06-.94-.94-2.06-.94 2.06-2.06.94z\"/><path d=\"M17.41 7.96l-1.37-1.37c-.4-.4-.92-.59-1.43-.59-.52 0-1.04.2-1.43.59L10.3 9.45l-7.72 7.72c-.78.78-.78 2.05 0 2.83L4 21.41c.39.39.9.59 1.41.59.51 0 1.02-.2 1.41-.59l7.78-7.78 2.81-2.81c.8-.78.8-2.07 0-2.86zM5.41 20L4 18.59l7.72-7.72 1.47 1.35L5.41 20z\"/>\n",
              "  </svg>\n",
              "      </button>\n",
              "      \n",
              "  <style>\n",
              "    .colab-df-container {\n",
              "      display:flex;\n",
              "      flex-wrap:wrap;\n",
              "      gap: 12px;\n",
              "    }\n",
              "\n",
              "    .colab-df-convert {\n",
              "      background-color: #E8F0FE;\n",
              "      border: none;\n",
              "      border-radius: 50%;\n",
              "      cursor: pointer;\n",
              "      display: none;\n",
              "      fill: #1967D2;\n",
              "      height: 32px;\n",
              "      padding: 0 0 0 0;\n",
              "      width: 32px;\n",
              "    }\n",
              "\n",
              "    .colab-df-convert:hover {\n",
              "      background-color: #E2EBFA;\n",
              "      box-shadow: 0px 1px 2px rgba(60, 64, 67, 0.3), 0px 1px 3px 1px rgba(60, 64, 67, 0.15);\n",
              "      fill: #174EA6;\n",
              "    }\n",
              "\n",
              "    [theme=dark] .colab-df-convert {\n",
              "      background-color: #3B4455;\n",
              "      fill: #D2E3FC;\n",
              "    }\n",
              "\n",
              "    [theme=dark] .colab-df-convert:hover {\n",
              "      background-color: #434B5C;\n",
              "      box-shadow: 0px 1px 3px 1px rgba(0, 0, 0, 0.15);\n",
              "      filter: drop-shadow(0px 1px 2px rgba(0, 0, 0, 0.3));\n",
              "      fill: #FFFFFF;\n",
              "    }\n",
              "  </style>\n",
              "\n",
              "      <script>\n",
              "        const buttonEl =\n",
              "          document.querySelector('#df-15a37785-0d18-4490-867d-bca8a799368e button.colab-df-convert');\n",
              "        buttonEl.style.display =\n",
              "          google.colab.kernel.accessAllowed ? 'block' : 'none';\n",
              "\n",
              "        async function convertToInteractive(key) {\n",
              "          const element = document.querySelector('#df-15a37785-0d18-4490-867d-bca8a799368e');\n",
              "          const dataTable =\n",
              "            await google.colab.kernel.invokeFunction('convertToInteractive',\n",
              "                                                     [key], {});\n",
              "          if (!dataTable) return;\n",
              "\n",
              "          const docLinkHtml = 'Like what you see? Visit the ' +\n",
              "            '<a target=\"_blank\" href=https://colab.research.google.com/notebooks/data_table.ipynb>data table notebook</a>'\n",
              "            + ' to learn more about interactive tables.';\n",
              "          element.innerHTML = '';\n",
              "          dataTable['output_type'] = 'display_data';\n",
              "          await google.colab.output.renderOutput(dataTable, element);\n",
              "          const docLink = document.createElement('div');\n",
              "          docLink.innerHTML = docLinkHtml;\n",
              "          element.appendChild(docLink);\n",
              "        }\n",
              "      </script>\n",
              "    </div>\n",
              "  </div>\n",
              "  "
            ]
          },
          "metadata": {},
          "execution_count": 8
        }
      ]
    },
    {
      "cell_type": "markdown",
      "metadata": {
        "id": "n6bX_DVuQmnV"
      },
      "source": [
        "- The data concerns city-cycle fuel consumption in **miles per gallon**, to be predicted in terms of **3 multivalued discrete** and **4 continuous** attributes."
      ]
    },
    {
      "cell_type": "markdown",
      "metadata": {
        "id": "3MWuJTKEDM-f"
      },
      "source": [
        "<a name=section22></a>\n",
        "\n",
        "### **2.2 Clean the Data**\n",
        "\n",
        "- The dataset contains a few unknown values."
      ]
    },
    {
      "cell_type": "code",
      "source": [
        "dataset.info()"
      ],
      "metadata": {
        "colab": {
          "base_uri": "https://localhost:8080/"
        },
        "id": "yv2XDFVke42k",
        "outputId": "46f4d832-8bbd-4805-c80e-d9641196cff3"
      },
      "execution_count": null,
      "outputs": [
        {
          "output_type": "stream",
          "name": "stdout",
          "text": [
            "<class 'pandas.core.frame.DataFrame'>\n",
            "RangeIndex: 398 entries, 0 to 397\n",
            "Data columns (total 8 columns):\n",
            " #   Column        Non-Null Count  Dtype  \n",
            "---  ------        --------------  -----  \n",
            " 0   MPG           398 non-null    float64\n",
            " 1   Cylinders     398 non-null    int64  \n",
            " 2   Displacement  398 non-null    float64\n",
            " 3   Horsepower    392 non-null    float64\n",
            " 4   Weight        398 non-null    float64\n",
            " 5   Acceleration  398 non-null    float64\n",
            " 6   Model Year    398 non-null    int64  \n",
            " 7   Origin        398 non-null    int64  \n",
            "dtypes: float64(5), int64(3)\n",
            "memory usage: 25.0 KB\n"
          ]
        }
      ]
    },
    {
      "cell_type": "code",
      "metadata": {
        "id": "JEJHhN65a2VV",
        "colab": {
          "base_uri": "https://localhost:8080/"
        },
        "outputId": "3a025221-6b34-4610-b18b-642fbc74ce43"
      },
      "source": [
        "dataset.isna().sum()"
      ],
      "execution_count": null,
      "outputs": [
        {
          "output_type": "execute_result",
          "data": {
            "text/plain": [
              "MPG             0\n",
              "Cylinders       0\n",
              "Displacement    0\n",
              "Horsepower      6\n",
              "Weight          0\n",
              "Acceleration    0\n",
              "Model Year      0\n",
              "Origin          0\n",
              "dtype: int64"
            ]
          },
          "metadata": {},
          "execution_count": 10
        }
      ]
    },
    {
      "cell_type": "markdown",
      "metadata": {
        "id": "9UPN0KBHa_WI"
      },
      "source": [
        "- Dropping these rows."
      ]
    },
    {
      "cell_type": "code",
      "metadata": {
        "id": "4ZUDosChC1UN"
      },
      "source": [
        "dataset = dataset.dropna()"
      ],
      "execution_count": null,
      "outputs": []
    },
    {
      "cell_type": "markdown",
      "metadata": {
        "id": "8XKitwaH4v8h"
      },
      "source": [
        "- The `\"Origin\"` column is categorical, not numeric.\n",
        "\n",
        "- Converting that to a one-hot:"
      ]
    },
    {
      "cell_type": "code",
      "metadata": {
        "id": "gWNTD2QjBWFJ"
      },
      "source": [
        "dataset['Origin'] = dataset['Origin'].map({1: 'USA', 2: 'Europe', 3: 'Japan'})"
      ],
      "execution_count": null,
      "outputs": []
    },
    {
      "cell_type": "code",
      "metadata": {
        "id": "ulXz4J7PAUzk",
        "colab": {
          "base_uri": "https://localhost:8080/",
          "height": 206
        },
        "outputId": "1b347789-24eb-4afe-8515-1946bf9d98ac"
      },
      "source": [
        "dataset = pd.get_dummies(dataset, prefix='', prefix_sep='')\n",
        "dataset.tail()"
      ],
      "execution_count": null,
      "outputs": [
        {
          "output_type": "execute_result",
          "data": {
            "text/plain": [
              "      MPG  Cylinders  Displacement  Horsepower  Weight  Acceleration  \\\n",
              "393  27.0          4         140.0        86.0  2790.0          15.6   \n",
              "394  44.0          4          97.0        52.0  2130.0          24.6   \n",
              "395  32.0          4         135.0        84.0  2295.0          11.6   \n",
              "396  28.0          4         120.0        79.0  2625.0          18.6   \n",
              "397  31.0          4         119.0        82.0  2720.0          19.4   \n",
              "\n",
              "     Model Year  Europe  Japan  USA  \n",
              "393          82       0      0    1  \n",
              "394          82       1      0    0  \n",
              "395          82       0      0    1  \n",
              "396          82       0      0    1  \n",
              "397          82       0      0    1  "
            ],
            "text/html": [
              "\n",
              "  <div id=\"df-b88e1cba-d285-4cc3-ac85-5020b8b9c87c\">\n",
              "    <div class=\"colab-df-container\">\n",
              "      <div>\n",
              "<style scoped>\n",
              "    .dataframe tbody tr th:only-of-type {\n",
              "        vertical-align: middle;\n",
              "    }\n",
              "\n",
              "    .dataframe tbody tr th {\n",
              "        vertical-align: top;\n",
              "    }\n",
              "\n",
              "    .dataframe thead th {\n",
              "        text-align: right;\n",
              "    }\n",
              "</style>\n",
              "<table border=\"1\" class=\"dataframe\">\n",
              "  <thead>\n",
              "    <tr style=\"text-align: right;\">\n",
              "      <th></th>\n",
              "      <th>MPG</th>\n",
              "      <th>Cylinders</th>\n",
              "      <th>Displacement</th>\n",
              "      <th>Horsepower</th>\n",
              "      <th>Weight</th>\n",
              "      <th>Acceleration</th>\n",
              "      <th>Model Year</th>\n",
              "      <th>Europe</th>\n",
              "      <th>Japan</th>\n",
              "      <th>USA</th>\n",
              "    </tr>\n",
              "  </thead>\n",
              "  <tbody>\n",
              "    <tr>\n",
              "      <th>393</th>\n",
              "      <td>27.0</td>\n",
              "      <td>4</td>\n",
              "      <td>140.0</td>\n",
              "      <td>86.0</td>\n",
              "      <td>2790.0</td>\n",
              "      <td>15.6</td>\n",
              "      <td>82</td>\n",
              "      <td>0</td>\n",
              "      <td>0</td>\n",
              "      <td>1</td>\n",
              "    </tr>\n",
              "    <tr>\n",
              "      <th>394</th>\n",
              "      <td>44.0</td>\n",
              "      <td>4</td>\n",
              "      <td>97.0</td>\n",
              "      <td>52.0</td>\n",
              "      <td>2130.0</td>\n",
              "      <td>24.6</td>\n",
              "      <td>82</td>\n",
              "      <td>1</td>\n",
              "      <td>0</td>\n",
              "      <td>0</td>\n",
              "    </tr>\n",
              "    <tr>\n",
              "      <th>395</th>\n",
              "      <td>32.0</td>\n",
              "      <td>4</td>\n",
              "      <td>135.0</td>\n",
              "      <td>84.0</td>\n",
              "      <td>2295.0</td>\n",
              "      <td>11.6</td>\n",
              "      <td>82</td>\n",
              "      <td>0</td>\n",
              "      <td>0</td>\n",
              "      <td>1</td>\n",
              "    </tr>\n",
              "    <tr>\n",
              "      <th>396</th>\n",
              "      <td>28.0</td>\n",
              "      <td>4</td>\n",
              "      <td>120.0</td>\n",
              "      <td>79.0</td>\n",
              "      <td>2625.0</td>\n",
              "      <td>18.6</td>\n",
              "      <td>82</td>\n",
              "      <td>0</td>\n",
              "      <td>0</td>\n",
              "      <td>1</td>\n",
              "    </tr>\n",
              "    <tr>\n",
              "      <th>397</th>\n",
              "      <td>31.0</td>\n",
              "      <td>4</td>\n",
              "      <td>119.0</td>\n",
              "      <td>82.0</td>\n",
              "      <td>2720.0</td>\n",
              "      <td>19.4</td>\n",
              "      <td>82</td>\n",
              "      <td>0</td>\n",
              "      <td>0</td>\n",
              "      <td>1</td>\n",
              "    </tr>\n",
              "  </tbody>\n",
              "</table>\n",
              "</div>\n",
              "      <button class=\"colab-df-convert\" onclick=\"convertToInteractive('df-b88e1cba-d285-4cc3-ac85-5020b8b9c87c')\"\n",
              "              title=\"Convert this dataframe to an interactive table.\"\n",
              "              style=\"display:none;\">\n",
              "        \n",
              "  <svg xmlns=\"http://www.w3.org/2000/svg\" height=\"24px\"viewBox=\"0 0 24 24\"\n",
              "       width=\"24px\">\n",
              "    <path d=\"M0 0h24v24H0V0z\" fill=\"none\"/>\n",
              "    <path d=\"M18.56 5.44l.94 2.06.94-2.06 2.06-.94-2.06-.94-.94-2.06-.94 2.06-2.06.94zm-11 1L8.5 8.5l.94-2.06 2.06-.94-2.06-.94L8.5 2.5l-.94 2.06-2.06.94zm10 10l.94 2.06.94-2.06 2.06-.94-2.06-.94-.94-2.06-.94 2.06-2.06.94z\"/><path d=\"M17.41 7.96l-1.37-1.37c-.4-.4-.92-.59-1.43-.59-.52 0-1.04.2-1.43.59L10.3 9.45l-7.72 7.72c-.78.78-.78 2.05 0 2.83L4 21.41c.39.39.9.59 1.41.59.51 0 1.02-.2 1.41-.59l7.78-7.78 2.81-2.81c.8-.78.8-2.07 0-2.86zM5.41 20L4 18.59l7.72-7.72 1.47 1.35L5.41 20z\"/>\n",
              "  </svg>\n",
              "      </button>\n",
              "      \n",
              "  <style>\n",
              "    .colab-df-container {\n",
              "      display:flex;\n",
              "      flex-wrap:wrap;\n",
              "      gap: 12px;\n",
              "    }\n",
              "\n",
              "    .colab-df-convert {\n",
              "      background-color: #E8F0FE;\n",
              "      border: none;\n",
              "      border-radius: 50%;\n",
              "      cursor: pointer;\n",
              "      display: none;\n",
              "      fill: #1967D2;\n",
              "      height: 32px;\n",
              "      padding: 0 0 0 0;\n",
              "      width: 32px;\n",
              "    }\n",
              "\n",
              "    .colab-df-convert:hover {\n",
              "      background-color: #E2EBFA;\n",
              "      box-shadow: 0px 1px 2px rgba(60, 64, 67, 0.3), 0px 1px 3px 1px rgba(60, 64, 67, 0.15);\n",
              "      fill: #174EA6;\n",
              "    }\n",
              "\n",
              "    [theme=dark] .colab-df-convert {\n",
              "      background-color: #3B4455;\n",
              "      fill: #D2E3FC;\n",
              "    }\n",
              "\n",
              "    [theme=dark] .colab-df-convert:hover {\n",
              "      background-color: #434B5C;\n",
              "      box-shadow: 0px 1px 3px 1px rgba(0, 0, 0, 0.15);\n",
              "      filter: drop-shadow(0px 1px 2px rgba(0, 0, 0, 0.3));\n",
              "      fill: #FFFFFF;\n",
              "    }\n",
              "  </style>\n",
              "\n",
              "      <script>\n",
              "        const buttonEl =\n",
              "          document.querySelector('#df-b88e1cba-d285-4cc3-ac85-5020b8b9c87c button.colab-df-convert');\n",
              "        buttonEl.style.display =\n",
              "          google.colab.kernel.accessAllowed ? 'block' : 'none';\n",
              "\n",
              "        async function convertToInteractive(key) {\n",
              "          const element = document.querySelector('#df-b88e1cba-d285-4cc3-ac85-5020b8b9c87c');\n",
              "          const dataTable =\n",
              "            await google.colab.kernel.invokeFunction('convertToInteractive',\n",
              "                                                     [key], {});\n",
              "          if (!dataTable) return;\n",
              "\n",
              "          const docLinkHtml = 'Like what you see? Visit the ' +\n",
              "            '<a target=\"_blank\" href=https://colab.research.google.com/notebooks/data_table.ipynb>data table notebook</a>'\n",
              "            + ' to learn more about interactive tables.';\n",
              "          element.innerHTML = '';\n",
              "          dataTable['output_type'] = 'display_data';\n",
              "          await google.colab.output.renderOutput(dataTable, element);\n",
              "          const docLink = document.createElement('div');\n",
              "          docLink.innerHTML = docLinkHtml;\n",
              "          element.appendChild(docLink);\n",
              "        }\n",
              "      </script>\n",
              "    </div>\n",
              "  </div>\n",
              "  "
            ]
          },
          "metadata": {},
          "execution_count": 13
        }
      ]
    },
    {
      "cell_type": "markdown",
      "metadata": {
        "id": "Cuym4yvk76vU"
      },
      "source": [
        "<a name=section23></a>\n",
        "\n",
        "\n",
        "### **2.3 Split the Data into Train and Test**\n",
        "\n",
        "- Now we will split the dataset into a training set and a test set.\n",
        "\n",
        "- We will use the test set in the final evaluation of our model."
      ]
    },
    {
      "cell_type": "code",
      "metadata": {
        "id": "qn-IGhUE7_1H"
      },
      "source": [
        "train_dataset = dataset.sample(frac=0.8,random_state=0)"
      ],
      "execution_count": null,
      "outputs": []
    },
    {
      "cell_type": "code",
      "source": [
        "train_dataset.index"
      ],
      "metadata": {
        "colab": {
          "base_uri": "https://localhost:8080/"
        },
        "id": "JCng0H9PgJNm",
        "outputId": "019b2972-7f10-4bd2-8cb7-73f03b2c4973"
      },
      "execution_count": null,
      "outputs": [
        {
          "output_type": "execute_result",
          "data": {
            "text/plain": [
              "Int64Index([146, 282,  69, 378, 331, 257, 310, 328, 125, 108,\n",
              "            ...\n",
              "            171,  70, 307,  49, 209, 281, 229, 150, 145, 182],\n",
              "           dtype='int64', length=314)"
            ]
          },
          "metadata": {},
          "execution_count": 15
        }
      ]
    },
    {
      "cell_type": "code",
      "metadata": {
        "id": "JojFa3DRfHIz"
      },
      "source": [
        "test_dataset = dataset.drop(train_dataset.index)"
      ],
      "execution_count": null,
      "outputs": []
    },
    {
      "cell_type": "code",
      "source": [
        "train_dataset.shape"
      ],
      "metadata": {
        "colab": {
          "base_uri": "https://localhost:8080/"
        },
        "id": "IhZAeSi4gPdL",
        "outputId": "3f4aca8f-787a-428d-f43b-707f49d9e614"
      },
      "execution_count": null,
      "outputs": [
        {
          "output_type": "execute_result",
          "data": {
            "text/plain": [
              "(314, 10)"
            ]
          },
          "metadata": {},
          "execution_count": 17
        }
      ]
    },
    {
      "cell_type": "code",
      "source": [
        "test_dataset.shape"
      ],
      "metadata": {
        "colab": {
          "base_uri": "https://localhost:8080/"
        },
        "id": "Cg2iyTfngRyh",
        "outputId": "f45ed307-8145-4162-fd5b-c79e0c7b56a7"
      },
      "execution_count": null,
      "outputs": [
        {
          "output_type": "execute_result",
          "data": {
            "text/plain": [
              "(78, 10)"
            ]
          },
          "metadata": {},
          "execution_count": 18
        }
      ]
    },
    {
      "cell_type": "markdown",
      "metadata": {
        "id": "J4ubs136WLNp"
      },
      "source": [
        "<a name=section24></a>\n",
        "\n",
        "### **2.4 Inspect the Data**\n",
        "\n",
        "- We will have a quick look at the joint distribution of a few pairs of columns from the training set."
      ]
    },
    {
      "cell_type": "code",
      "source": [
        "train_dataset.skew()"
      ],
      "metadata": {
        "colab": {
          "base_uri": "https://localhost:8080/"
        },
        "id": "DY2Tf6eOgo72",
        "outputId": "c167a031-4abe-48e8-fba6-aa70c62ff79d"
      },
      "execution_count": null,
      "outputs": [
        {
          "output_type": "execute_result",
          "data": {
            "text/plain": [
              "MPG             0.509471\n",
              "Cylinders       0.503951\n",
              "Displacement    0.724314\n",
              "Horsepower      1.071827\n",
              "Weight          0.532426\n",
              "Acceleration    0.306598\n",
              "Model Year      0.027272\n",
              "Europe          1.688612\n",
              "Japan           1.527355\n",
              "USA            -0.515357\n",
              "dtype: float64"
            ]
          },
          "metadata": {},
          "execution_count": 19
        }
      ]
    },
    {
      "cell_type": "code",
      "metadata": {
        "id": "oRKO_x8gWKv-",
        "colab": {
          "base_uri": "https://localhost:8080/",
          "height": 1000
        },
        "outputId": "99505027-f992-49ad-b897-e4ad3065618c"
      },
      "source": [
        "sns.pairplot(train_dataset[[\"MPG\", \"Cylinders\", \"Displacement\", \"Weight\"]], diag_kind=\"kde\")"
      ],
      "execution_count": null,
      "outputs": [
        {
          "output_type": "execute_result",
          "data": {
            "text/plain": [
              "<seaborn.axisgrid.PairGrid at 0x7fdfd5dd7310>"
            ]
          },
          "metadata": {},
          "execution_count": 20
        },
        {
          "output_type": "display_data",
          "data": {
            "text/plain": [
              "<Figure size 1000x1000 with 20 Axes>"
            ],
            "image/png": "[encoded data removed]"
          },
          "metadata": {}
        }
      ]
    },
    {
      "cell_type": "markdown",
      "metadata": {
        "id": "gavKO_6DWRMP"
      },
      "source": [
        "- Let's also look at the overall statistics:"
      ]
    },
    {
      "cell_type": "code",
      "metadata": {
        "id": "yi2FzC3T21jR",
        "colab": {
          "base_uri": "https://localhost:8080/",
          "height": 331
        },
        "outputId": "2f1e9e5f-c09a-4e83-ca80-7e65c5997f0d"
      },
      "source": [
        "train_stats = train_dataset.describe()\n",
        "train_stats.pop(\"MPG\")\n",
        "train_stats = train_stats.transpose()\n",
        "train_stats"
      ],
      "execution_count": null,
      "outputs": [
        {
          "output_type": "execute_result",
          "data": {
            "text/plain": [
              "              count         mean         std     min      25%     50%  \\\n",
              "Cylinders     314.0     5.477707    1.699788     3.0     4.00     4.0   \n",
              "Displacement  314.0   195.318471  104.331589    68.0   105.50   151.0   \n",
              "Horsepower    314.0   104.869427   38.096214    46.0    76.25    94.5   \n",
              "Weight        314.0  2990.251592  843.898596  1649.0  2256.50  2822.5   \n",
              "Acceleration  314.0    15.559236    2.789230     8.0    13.80    15.5   \n",
              "Model Year    314.0    75.898089    3.675642    70.0    73.00    76.0   \n",
              "Europe        314.0     0.178344    0.383413     0.0     0.00     0.0   \n",
              "Japan         314.0     0.197452    0.398712     0.0     0.00     0.0   \n",
              "USA           314.0     0.624204    0.485101     0.0     0.00     1.0   \n",
              "\n",
              "                  75%     max  \n",
              "Cylinders        8.00     8.0  \n",
              "Displacement   265.75   455.0  \n",
              "Horsepower     128.00   225.0  \n",
              "Weight        3608.00  5140.0  \n",
              "Acceleration    17.20    24.8  \n",
              "Model Year      79.00    82.0  \n",
              "Europe           0.00     1.0  \n",
              "Japan            0.00     1.0  \n",
              "USA              1.00     1.0  "
            ],
            "text/html": [
              "\n",
              "  <div id=\"df-886ea047-1b53-4a7e-87f2-64b92c238aec\">\n",
              "    <div class=\"colab-df-container\">\n",
              "      <div>\n",
              "<style scoped>\n",
              "    .dataframe tbody tr th:only-of-type {\n",
              "        vertical-align: middle;\n",
              "    }\n",
              "\n",
              "    .dataframe tbody tr th {\n",
              "        vertical-align: top;\n",
              "    }\n",
              "\n",
              "    .dataframe thead th {\n",
              "        text-align: right;\n",
              "    }\n",
              "</style>\n",
              "<table border=\"1\" class=\"dataframe\">\n",
              "  <thead>\n",
              "    <tr style=\"text-align: right;\">\n",
              "      <th></th>\n",
              "      <th>count</th>\n",
              "      <th>mean</th>\n",
              "      <th>std</th>\n",
              "      <th>min</th>\n",
              "      <th>25%</th>\n",
              "      <th>50%</th>\n",
              "      <th>75%</th>\n",
              "      <th>max</th>\n",
              "    </tr>\n",
              "  </thead>\n",
              "  <tbody>\n",
              "    <tr>\n",
              "      <th>Cylinders</th>\n",
              "      <td>314.0</td>\n",
              "      <td>5.477707</td>\n",
              "      <td>1.699788</td>\n",
              "      <td>3.0</td>\n",
              "      <td>4.00</td>\n",
              "      <td>4.0</td>\n",
              "      <td>8.00</td>\n",
              "      <td>8.0</td>\n",
              "    </tr>\n",
              "    <tr>\n",
              "      <th>Displacement</th>\n",
              "      <td>314.0</td>\n",
              "      <td>195.318471</td>\n",
              "      <td>104.331589</td>\n",
              "      <td>68.0</td>\n",
              "      <td>105.50</td>\n",
              "      <td>151.0</td>\n",
              "      <td>265.75</td>\n",
              "      <td>455.0</td>\n",
              "    </tr>\n",
              "    <tr>\n",
              "      <th>Horsepower</th>\n",
              "      <td>314.0</td>\n",
              "      <td>104.869427</td>\n",
              "      <td>38.096214</td>\n",
              "      <td>46.0</td>\n",
              "      <td>76.25</td>\n",
              "      <td>94.5</td>\n",
              "      <td>128.00</td>\n",
              "      <td>225.0</td>\n",
              "    </tr>\n",
              "    <tr>\n",
              "      <th>Weight</th>\n",
              "      <td>314.0</td>\n",
              "      <td>2990.251592</td>\n",
              "      <td>843.898596</td>\n",
              "      <td>1649.0</td>\n",
              "      <td>2256.50</td>\n",
              "      <td>2822.5</td>\n",
              "      <td>3608.00</td>\n",
              "      <td>5140.0</td>\n",
              "    </tr>\n",
              "    <tr>\n",
              "      <th>Acceleration</th>\n",
              "      <td>314.0</td>\n",
              "      <td>15.559236</td>\n",
              "      <td>2.789230</td>\n",
              "      <td>8.0</td>\n",
              "      <td>13.80</td>\n",
              "      <td>15.5</td>\n",
              "      <td>17.20</td>\n",
              "      <td>24.8</td>\n",
              "    </tr>\n",
              "    <tr>\n",
              "      <th>Model Year</th>\n",
              "      <td>314.0</td>\n",
              "      <td>75.898089</td>\n",
              "      <td>3.675642</td>\n",
              "      <td>70.0</td>\n",
              "      <td>73.00</td>\n",
              "      <td>76.0</td>\n",
              "      <td>79.00</td>\n",
              "      <td>82.0</td>\n",
              "    </tr>\n",
              "    <tr>\n",
              "      <th>Europe</th>\n",
              "      <td>314.0</td>\n",
              "      <td>0.178344</td>\n",
              "      <td>0.383413</td>\n",
              "      <td>0.0</td>\n",
              "      <td>0.00</td>\n",
              "      <td>0.0</td>\n",
              "      <td>0.00</td>\n",
              "      <td>1.0</td>\n",
              "    </tr>\n",
              "    <tr>\n",
              "      <th>Japan</th>\n",
              "      <td>314.0</td>\n",
              "      <td>0.197452</td>\n",
              "      <td>0.398712</td>\n",
              "      <td>0.0</td>\n",
              "      <td>0.00</td>\n",
              "      <td>0.0</td>\n",
              "      <td>0.00</td>\n",
              "      <td>1.0</td>\n",
              "    </tr>\n",
              "    <tr>\n",
              "      <th>USA</th>\n",
              "      <td>314.0</td>\n",
              "      <td>0.624204</td>\n",
              "      <td>0.485101</td>\n",
              "      <td>0.0</td>\n",
              "      <td>0.00</td>\n",
              "      <td>1.0</td>\n",
              "      <td>1.00</td>\n",
              "      <td>1.0</td>\n",
              "    </tr>\n",
              "  </tbody>\n",
              "</table>\n",
              "</div>\n",
              "      <button class=\"colab-df-convert\" onclick=\"convertToInteractive('df-886ea047-1b53-4a7e-87f2-64b92c238aec')\"\n",
              "              title=\"Convert this dataframe to an interactive table.\"\n",
              "              style=\"display:none;\">\n",
              "        \n",
              "  <svg xmlns=\"http://www.w3.org/2000/svg\" height=\"24px\"viewBox=\"0 0 24 24\"\n",
              "       width=\"24px\">\n",
              "    <path d=\"M0 0h24v24H0V0z\" fill=\"none\"/>\n",
              "    <path d=\"M18.56 5.44l.94 2.06.94-2.06 2.06-.94-2.06-.94-.94-2.06-.94 2.06-2.06.94zm-11 1L8.5 8.5l.94-2.06 2.06-.94-2.06-.94L8.5 2.5l-.94 2.06-2.06.94zm10 10l.94 2.06.94-2.06 2.06-.94-2.06-.94-.94-2.06-.94 2.06-2.06.94z\"/><path d=\"M17.41 7.96l-1.37-1.37c-.4-.4-.92-.59-1.43-.59-.52 0-1.04.2-1.43.59L10.3 9.45l-7.72 7.72c-.78.78-.78 2.05 0 2.83L4 21.41c.39.39.9.59 1.41.59.51 0 1.02-.2 1.41-.59l7.78-7.78 2.81-2.81c.8-.78.8-2.07 0-2.86zM5.41 20L4 18.59l7.72-7.72 1.47 1.35L5.41 20z\"/>\n",
              "  </svg>\n",
              "      </button>\n",
              "      \n",
              "  <style>\n",
              "    .colab-df-container {\n",
              "      display:flex;\n",
              "      flex-wrap:wrap;\n",
              "      gap: 12px;\n",
              "    }\n",
              "\n",
              "    .colab-df-convert {\n",
              "      background-color: #E8F0FE;\n",
              "      border: none;\n",
              "      border-radius: 50%;\n",
              "      cursor: pointer;\n",
              "      display: none;\n",
              "      fill: #1967D2;\n",
              "      height: 32px;\n",
              "      padding: 0 0 0 0;\n",
              "      width: 32px;\n",
              "    }\n",
              "\n",
              "    .colab-df-convert:hover {\n",
              "      background-color: #E2EBFA;\n",
              "      box-shadow: 0px 1px 2px rgba(60, 64, 67, 0.3), 0px 1px 3px 1px rgba(60, 64, 67, 0.15);\n",
              "      fill: #174EA6;\n",
              "    }\n",
              "\n",
              "    [theme=dark] .colab-df-convert {\n",
              "      background-color: #3B4455;\n",
              "      fill: #D2E3FC;\n",
              "    }\n",
              "\n",
              "    [theme=dark] .colab-df-convert:hover {\n",
              "      background-color: #434B5C;\n",
              "      box-shadow: 0px 1px 3px 1px rgba(0, 0, 0, 0.15);\n",
              "      filter: drop-shadow(0px 1px 2px rgba(0, 0, 0, 0.3));\n",
              "      fill: #FFFFFF;\n",
              "    }\n",
              "  </style>\n",
              "\n",
              "      <script>\n",
              "        const buttonEl =\n",
              "          document.querySelector('#df-886ea047-1b53-4a7e-87f2-64b92c238aec button.colab-df-convert');\n",
              "        buttonEl.style.display =\n",
              "          google.colab.kernel.accessAllowed ? 'block' : 'none';\n",
              "\n",
              "        async function convertToInteractive(key) {\n",
              "          const element = document.querySelector('#df-886ea047-1b53-4a7e-87f2-64b92c238aec');\n",
              "          const dataTable =\n",
              "            await google.colab.kernel.invokeFunction('convertToInteractive',\n",
              "                                                     [key], {});\n",
              "          if (!dataTable) return;\n",
              "\n",
              "          const docLinkHtml = 'Like what you see? Visit the ' +\n",
              "            '<a target=\"_blank\" href=https://colab.research.google.com/notebooks/data_table.ipynb>data table notebook</a>'\n",
              "            + ' to learn more about interactive tables.';\n",
              "          element.innerHTML = '';\n",
              "          dataTable['output_type'] = 'display_data';\n",
              "          await google.colab.output.renderOutput(dataTable, element);\n",
              "          const docLink = document.createElement('div');\n",
              "          docLink.innerHTML = docLinkHtml;\n",
              "          element.appendChild(docLink);\n",
              "        }\n",
              "      </script>\n",
              "    </div>\n",
              "  </div>\n",
              "  "
            ]
          },
          "metadata": {},
          "execution_count": 21
        }
      ]
    },
    {
      "cell_type": "markdown",
      "metadata": {
        "id": "Db7Auq1yXUvh"
      },
      "source": [
        "<a name=section25></a>\n",
        "\n",
        "### **2.5 Split Features from Labels**\n",
        "\n",
        "- Separate the target value, or \"label\", from the features.\n",
        "\n",
        "- This label is the value that we will train the model to predict."
      ]
    },
    {
      "cell_type": "code",
      "metadata": {
        "id": "t2sluJdCW7jN"
      },
      "source": [
        "train_labels = train_dataset.pop('MPG')"
      ],
      "execution_count": null,
      "outputs": []
    },
    {
      "cell_type": "code",
      "metadata": {
        "id": "uTgQXb1Afksb"
      },
      "source": [
        "test_labels = test_dataset.pop('MPG')"
      ],
      "execution_count": null,
      "outputs": []
    },
    {
      "cell_type": "markdown",
      "metadata": {
        "id": "mRklxK5s388r"
      },
      "source": [
        "<a name=section26></a>\n",
        "\n",
        "### **2.6 Normalize the Data**\n",
        "\n",
        "- Look again at the `train_stats` block above and note how different the ranges of each feature are."
      ]
    },
    {
      "cell_type": "markdown",
      "metadata": {
        "id": "-ywmerQ6dSox"
      },
      "source": [
        "- It is good practice to normalize features that use different scales and ranges.\n",
        "\n",
        "- Although the model *might* converge without feature normalization, it makes training more difficult, and it makes the resulting model dependent on the choice of units used in the input.\n",
        "\n",
        "- **Note**: Although we intentionally generate these statistics from only the training dataset, these statistics will also be used to normalize the test dataset.\n",
        "\n",
        "  - We need to do that to project the test dataset into the same distribution that the model has been trained on."
      ]
    },
    {
      "cell_type": "code",
      "metadata": {
        "id": "JlC5ooJrgjQF"
      },
      "source": [
        "def norm(x):\n",
        "  return (x - train_stats['mean']) / train_stats['std']"
      ],
      "execution_count": null,
      "outputs": []
    },
    {
      "cell_type": "code",
      "metadata": {
        "id": "cioktPZXf9Tp"
      },
      "source": [
        "normed_train_data = norm(train_dataset)\n",
        "normed_test_data = norm(test_dataset)"
      ],
      "execution_count": null,
      "outputs": []
    },
    {
      "cell_type": "code",
      "source": [
        "normed_train_data.skew()"
      ],
      "metadata": {
        "id": "7bc2fj_ijhYI",
        "outputId": "63faa882-c5bf-4251-e4e5-7a7f89a8b147",
        "colab": {
          "base_uri": "https://localhost:8080/"
        }
      },
      "execution_count": null,
      "outputs": [
        {
          "output_type": "execute_result",
          "data": {
            "text/plain": [
              "Cylinders       0.503951\n",
              "Displacement    0.724314\n",
              "Horsepower      1.071827\n",
              "Weight          0.532426\n",
              "Acceleration    0.306598\n",
              "Model Year      0.027272\n",
              "Europe          1.688612\n",
              "Japan           1.527355\n",
              "USA            -0.515357\n",
              "dtype: float64"
            ]
          },
          "metadata": {},
          "execution_count": 26
        }
      ]
    },
    {
      "cell_type": "markdown",
      "metadata": {
        "id": "BuiClDk45eS4"
      },
      "source": [
        "- This normalized data is what we will use to train the model.\n",
        "\n",
        "- **Caution**: The statistics used to normalize the inputs here (mean and standard deviation) need to be applied to any other data that is fed to the model, along with the one-hot encoding that we did earlier.\n",
        "\n",
        "  - That includes the test set as well as live data when the model is used in production."
      ]
    },
    {
      "cell_type": "markdown",
      "metadata": {
        "id": "SmjdzxKzEu1-"
      },
      "source": [
        "<a name=section3></a>\n",
        "\n",
        "----\n",
        "## **3. The Model**\n",
        "----"
      ]
    },
    {
      "cell_type": "markdown",
      "metadata": {
        "id": "6SWtkIjhrZwa"
      },
      "source": [
        "<a name=section31></a>\n",
        "\n",
        "### **3.1 Build the Model**\n",
        "\n",
        "- Let's build our model.\n",
        "\n",
        "- Here, we'll use a `Sequential` model with two densely connected hidden layers, and an output layer that returns a single, continuous value.\n",
        "\n",
        "  - Previously, we use the `model.add()` method to **add layers** to our sequential model.\n",
        "\n",
        "  - Here, we will directly **pass** all our *model layers* as **list items**.\n",
        "\n",
        "  - We achive same result in both ways.\n",
        "\n",
        "- The model building steps are wrapped in a function, `build_model`, since we'll create a second model, later on."
      ]
    },
    {
      "cell_type": "code",
      "source": [
        "len(train_dataset.keys())"
      ],
      "metadata": {
        "colab": {
          "base_uri": "https://localhost:8080/"
        },
        "id": "yyDDQKLGROQf",
        "outputId": "a0cb2ac3-e253-44bc-94b1-a6db22f53cf6"
      },
      "execution_count": null,
      "outputs": [
        {
          "output_type": "execute_result",
          "data": {
            "text/plain": [
              "9"
            ]
          },
          "metadata": {},
          "execution_count": 27
        }
      ]
    },
    {
      "cell_type": "code",
      "metadata": {
        "id": "c26juK7ZG8j-"
      },
      "source": [
        "def build_model():\n",
        "  model = keras.Sequential([layers.Dense(64, activation='relu', input_shape=[len(train_dataset.keys())]),\n",
        "                            layers.Dense(64, activation='relu'),\n",
        "                            layers.Dense(1)])\n",
        "\n",
        "  # Defining the optimizer with a specific learning rate of 0.001\n",
        "  optimizer = tf.keras.optimizers.RMSprop(0.001)\n",
        "\n",
        "  # Compiling the model\n",
        "  model.compile(loss='mse', optimizer=optimizer, metrics=['mae', 'mse'])\n",
        "  return model"
      ],
      "execution_count": null,
      "outputs": []
    },
    {
      "cell_type": "code",
      "metadata": {
        "id": "cGbPb-PHGbhs"
      },
      "source": [
        "model = build_model()"
      ],
      "execution_count": null,
      "outputs": []
    },
    {
      "cell_type": "markdown",
      "metadata": {
        "id": "Sj49Og4YGULr"
      },
      "source": [
        "<a name=section32></a>\n",
        "\n",
        "### **3.2 Inspect the Model**\n",
        "\n",
        "- Using the `.summary` method to print a simple description of the model"
      ]
    },
    {
      "cell_type": "code",
      "metadata": {
        "id": "ReAD0n6MsFK-",
        "colab": {
          "base_uri": "https://localhost:8080/"
        },
        "outputId": "c6a597c9-1c4b-4d23-e1ac-36299281b5da"
      },
      "source": [
        "model.summary()"
      ],
      "execution_count": null,
      "outputs": [
        {
          "output_type": "stream",
          "name": "stdout",
          "text": [
            "Model: \"sequential\"\n",
            "_________________________________________________________________\n",
            " Layer (type)                Output Shape              Param #   \n",
            "=================================================================\n",
            " dense (Dense)               (None, 64)                640       \n",
            "                                                                 \n",
            " dense_1 (Dense)             (None, 64)                4160      \n",
            "                                                                 \n",
            " dense_2 (Dense)             (None, 1)                 65        \n",
            "                                                                 \n",
            "=================================================================\n",
            "Total params: 4,865\n",
            "Trainable params: 4,865\n",
            "Non-trainable params: 0\n",
            "_________________________________________________________________\n"
          ]
        }
      ]
    },
    {
      "cell_type": "markdown",
      "metadata": {
        "id": "Vt6W50qGsJAL"
      },
      "source": [
        "- Now let's try out the model.\n",
        "\n",
        "- Taking a batch of `10` examples from the training data and calling `model.predict` on it."
      ]
    },
    {
      "cell_type": "code",
      "metadata": {
        "id": "-d-gBaVtGTSC",
        "colab": {
          "base_uri": "https://localhost:8080/"
        },
        "outputId": "53746a8d-0425-4920-c403-20a0fceb4b93"
      },
      "source": [
        "example_batch = normed_train_data[:10]\n",
        "example_result = model.predict(example_batch)\n",
        "example_result"
      ],
      "execution_count": null,
      "outputs": [
        {
          "output_type": "stream",
          "name": "stdout",
          "text": [
            "1/1 [==============================] - 3s 3s/step\n"
          ]
        },
        {
          "output_type": "execute_result",
          "data": {
            "text/plain": [
              "array([[-0.12120038],\n",
              "       [-0.1767696 ],\n",
              "       [-0.83140814],\n",
              "       [-0.14238876],\n",
              "       [ 0.00954978],\n",
              "       [-0.08936734],\n",
              "       [ 0.06907476],\n",
              "       [ 0.07726637],\n",
              "       [-0.19694006],\n",
              "       [-0.16577888]], dtype=float32)"
            ]
          },
          "metadata": {},
          "execution_count": 31
        }
      ]
    },
    {
      "cell_type": "markdown",
      "metadata": {
        "id": "QlM8KrSOsaYo"
      },
      "source": [
        "- It seems to be working, and it produces a result of the expected shape and type.\n",
        "\n",
        "- We haven't trained the model yet, and as a result the above predictions are like this."
      ]
    },
    {
      "cell_type": "markdown",
      "metadata": {
        "id": "0-qWCsh6DlyH"
      },
      "source": [
        "<a name=section33></a>\n",
        "\n",
        "### **3.3 Train the Model**\n",
        "\n",
        "- Training the model for 1000 epochs, and recording the training and validation accuracy in the `history` object.\n",
        "\n",
        "- We are using `tfdocs.modeling.EpochDots()` callback to print a \".\" every epoch, with reports after each 100 epochs.\n",
        "\n",
        "  - These print settings are the default values, i. e. printing a \".\" after each epoch and a report after 100 epochs.\n",
        "\n",
        "  - We can change these as per our requirements in the callback."
      ]
    },
    {
      "cell_type": "code",
      "metadata": {
        "id": "A6e-I-rukbUi"
      },
      "source": [
        "EPOCHS = 1000"
      ],
      "execution_count": null,
      "outputs": []
    },
    {
      "cell_type": "code",
      "metadata": {
        "id": "sD7qHCmNIOY0",
        "colab": {
          "base_uri": "https://localhost:8080/"
        },
        "outputId": "57a2be88-a809-41d9-9adf-9099ed5976f3"
      },
      "source": [
        "history = model.fit(normed_train_data, train_labels, epochs=EPOCHS, validation_split=0.2,\n",
        "                    verbose=0, callbacks=[tfdocs.modeling.EpochDots()])"
      ],
      "execution_count": null,
      "outputs": [
        {
          "output_type": "stream",
          "name": "stdout",
          "text": [
            "\n",
            "Epoch: 0, loss:577.9202,  mae:22.8236,  mse:577.9202,  val_loss:569.7040,  val_mae:22.6005,  val_mse:569.7040,  \n",
            "....................................................................................................\n",
            "Epoch: 100, loss:5.8966,  mae:1.6891,  mse:5.8966,  val_loss:7.9835,  val_mae:2.1692,  val_mse:7.9835,  \n",
            "....................................................................................................\n",
            "Epoch: 200, loss:5.3232,  mae:1.5778,  mse:5.3232,  val_loss:7.8964,  val_mae:2.1982,  val_mse:7.8964,  \n",
            "....................................................................................................\n",
            "Epoch: 300, loss:4.7251,  mae:1.4506,  mse:4.7251,  val_loss:8.1992,  val_mae:2.1944,  val_mse:8.1992,  \n",
            "....................................................................................................\n",
            "Epoch: 400, loss:4.3754,  mae:1.4256,  mse:4.3754,  val_loss:8.5889,  val_mae:2.3278,  val_mse:8.5889,  \n",
            "....................................................................................................\n",
            "Epoch: 500, loss:3.8871,  mae:1.3406,  mse:3.8871,  val_loss:8.6734,  val_mae:2.3677,  val_mse:8.6734,  \n",
            "....................................................................................................\n",
            "Epoch: 600, loss:3.5742,  mae:1.2455,  mse:3.5742,  val_loss:8.5070,  val_mae:2.2984,  val_mse:8.5070,  \n",
            "....................................................................................................\n",
            "Epoch: 700, loss:3.3181,  mae:1.1835,  mse:3.3181,  val_loss:7.9057,  val_mae:2.2000,  val_mse:7.9057,  \n",
            "....................................................................................................\n",
            "Epoch: 800, loss:3.1126,  mae:1.1505,  mse:3.1126,  val_loss:8.0948,  val_mae:2.2251,  val_mse:8.0948,  \n",
            "....................................................................................................\n",
            "Epoch: 900, loss:2.8467,  mae:1.1019,  mse:2.8467,  val_loss:7.5992,  val_mae:2.1661,  val_mse:7.5992,  \n",
            "...................................................................................................."
          ]
        }
      ]
    },
    {
      "cell_type": "markdown",
      "metadata": {
        "id": "tQm3pc0FYPQB"
      },
      "source": [
        "- Visualizing the model's training progress using the stats stored in the `history` object."
      ]
    },
    {
      "cell_type": "code",
      "metadata": {
        "id": "4Xj91b-dymEy",
        "colab": {
          "base_uri": "https://localhost:8080/",
          "height": 206
        },
        "outputId": "188a313a-f07f-480d-b1a0-2ac12d8e298e"
      },
      "source": [
        "hist = pd.DataFrame(history.history)\n",
        "hist['epoch'] = history.epoch\n",
        "hist.tail()"
      ],
      "execution_count": null,
      "outputs": [
        {
          "output_type": "execute_result",
          "data": {
            "text/plain": [
              "         loss       mae       mse  val_loss   val_mae   val_mse  epoch\n",
              "995  2.507554  1.004469  2.507554  7.665068  2.171520  7.665068    995\n",
              "996  2.557514  0.996607  2.557514  8.283268  2.240236  8.283268    996\n",
              "997  2.629061  1.043070  2.629061  7.616884  2.167691  7.616884    997\n",
              "998  2.684775  1.046786  2.684775  7.748640  2.196309  7.748640    998\n",
              "999  2.481573  0.978278  2.481573  7.876829  2.210326  7.876829    999"
            ],
            "text/html": [
              "\n",
              "  <div id=\"df-76ebe34c-6362-489b-9e87-fce397fc65f7\">\n",
              "    <div class=\"colab-df-container\">\n",
              "      <div>\n",
              "<style scoped>\n",
              "    .dataframe tbody tr th:only-of-type {\n",
              "        vertical-align: middle;\n",
              "    }\n",
              "\n",
              "    .dataframe tbody tr th {\n",
              "        vertical-align: top;\n",
              "    }\n",
              "\n",
              "    .dataframe thead th {\n",
              "        text-align: right;\n",
              "    }\n",
              "</style>\n",
              "<table border=\"1\" class=\"dataframe\">\n",
              "  <thead>\n",
              "    <tr style=\"text-align: right;\">\n",
              "      <th></th>\n",
              "      <th>loss</th>\n",
              "      <th>mae</th>\n",
              "      <th>mse</th>\n",
              "      <th>val_loss</th>\n",
              "      <th>val_mae</th>\n",
              "      <th>val_mse</th>\n",
              "      <th>epoch</th>\n",
              "    </tr>\n",
              "  </thead>\n",
              "  <tbody>\n",
              "    <tr>\n",
              "      <th>995</th>\n",
              "      <td>2.507554</td>\n",
              "      <td>1.004469</td>\n",
              "      <td>2.507554</td>\n",
              "      <td>7.665068</td>\n",
              "      <td>2.171520</td>\n",
              "      <td>7.665068</td>\n",
              "      <td>995</td>\n",
              "    </tr>\n",
              "    <tr>\n",
              "      <th>996</th>\n",
              "      <td>2.557514</td>\n",
              "      <td>0.996607</td>\n",
              "      <td>2.557514</td>\n",
              "      <td>8.283268</td>\n",
              "      <td>2.240236</td>\n",
              "      <td>8.283268</td>\n",
              "      <td>996</td>\n",
              "    </tr>\n",
              "    <tr>\n",
              "      <th>997</th>\n",
              "      <td>2.629061</td>\n",
              "      <td>1.043070</td>\n",
              "      <td>2.629061</td>\n",
              "      <td>7.616884</td>\n",
              "      <td>2.167691</td>\n",
              "      <td>7.616884</td>\n",
              "      <td>997</td>\n",
              "    </tr>\n",
              "    <tr>\n",
              "      <th>998</th>\n",
              "      <td>2.684775</td>\n",
              "      <td>1.046786</td>\n",
              "      <td>2.684775</td>\n",
              "      <td>7.748640</td>\n",
              "      <td>2.196309</td>\n",
              "      <td>7.748640</td>\n",
              "      <td>998</td>\n",
              "    </tr>\n",
              "    <tr>\n",
              "      <th>999</th>\n",
              "      <td>2.481573</td>\n",
              "      <td>0.978278</td>\n",
              "      <td>2.481573</td>\n",
              "      <td>7.876829</td>\n",
              "      <td>2.210326</td>\n",
              "      <td>7.876829</td>\n",
              "      <td>999</td>\n",
              "    </tr>\n",
              "  </tbody>\n",
              "</table>\n",
              "</div>\n",
              "      <button class=\"colab-df-convert\" onclick=\"convertToInteractive('df-76ebe34c-6362-489b-9e87-fce397fc65f7')\"\n",
              "              title=\"Convert this dataframe to an interactive table.\"\n",
              "              style=\"display:none;\">\n",
              "        \n",
              "  <svg xmlns=\"http://www.w3.org/2000/svg\" height=\"24px\"viewBox=\"0 0 24 24\"\n",
              "       width=\"24px\">\n",
              "    <path d=\"M0 0h24v24H0V0z\" fill=\"none\"/>\n",
              "    <path d=\"M18.56 5.44l.94 2.06.94-2.06 2.06-.94-2.06-.94-.94-2.06-.94 2.06-2.06.94zm-11 1L8.5 8.5l.94-2.06 2.06-.94-2.06-.94L8.5 2.5l-.94 2.06-2.06.94zm10 10l.94 2.06.94-2.06 2.06-.94-2.06-.94-.94-2.06-.94 2.06-2.06.94z\"/><path d=\"M17.41 7.96l-1.37-1.37c-.4-.4-.92-.59-1.43-.59-.52 0-1.04.2-1.43.59L10.3 9.45l-7.72 7.72c-.78.78-.78 2.05 0 2.83L4 21.41c.39.39.9.59 1.41.59.51 0 1.02-.2 1.41-.59l7.78-7.78 2.81-2.81c.8-.78.8-2.07 0-2.86zM5.41 20L4 18.59l7.72-7.72 1.47 1.35L5.41 20z\"/>\n",
              "  </svg>\n",
              "      </button>\n",
              "      \n",
              "  <style>\n",
              "    .colab-df-container {\n",
              "      display:flex;\n",
              "      flex-wrap:wrap;\n",
              "      gap: 12px;\n",
              "    }\n",
              "\n",
              "    .colab-df-convert {\n",
              "      background-color: #E8F0FE;\n",
              "      border: none;\n",
              "      border-radius: 50%;\n",
              "      cursor: pointer;\n",
              "      display: none;\n",
              "      fill: #1967D2;\n",
              "      height: 32px;\n",
              "      padding: 0 0 0 0;\n",
              "      width: 32px;\n",
              "    }\n",
              "\n",
              "    .colab-df-convert:hover {\n",
              "      background-color: #E2EBFA;\n",
              "      box-shadow: 0px 1px 2px rgba(60, 64, 67, 0.3), 0px 1px 3px 1px rgba(60, 64, 67, 0.15);\n",
              "      fill: #174EA6;\n",
              "    }\n",
              "\n",
              "    [theme=dark] .colab-df-convert {\n",
              "      background-color: #3B4455;\n",
              "      fill: #D2E3FC;\n",
              "    }\n",
              "\n",
              "    [theme=dark] .colab-df-convert:hover {\n",
              "      background-color: #434B5C;\n",
              "      box-shadow: 0px 1px 3px 1px rgba(0, 0, 0, 0.15);\n",
              "      filter: drop-shadow(0px 1px 2px rgba(0, 0, 0, 0.3));\n",
              "      fill: #FFFFFF;\n",
              "    }\n",
              "  </style>\n",
              "\n",
              "      <script>\n",
              "        const buttonEl =\n",
              "          document.querySelector('#df-76ebe34c-6362-489b-9e87-fce397fc65f7 button.colab-df-convert');\n",
              "        buttonEl.style.display =\n",
              "          google.colab.kernel.accessAllowed ? 'block' : 'none';\n",
              "\n",
              "        async function convertToInteractive(key) {\n",
              "          const element = document.querySelector('#df-76ebe34c-6362-489b-9e87-fce397fc65f7');\n",
              "          const dataTable =\n",
              "            await google.colab.kernel.invokeFunction('convertToInteractive',\n",
              "                                                     [key], {});\n",
              "          if (!dataTable) return;\n",
              "\n",
              "          const docLinkHtml = 'Like what you see? Visit the ' +\n",
              "            '<a target=\"_blank\" href=https://colab.research.google.com/notebooks/data_table.ipynb>data table notebook</a>'\n",
              "            + ' to learn more about interactive tables.';\n",
              "          element.innerHTML = '';\n",
              "          dataTable['output_type'] = 'display_data';\n",
              "          await google.colab.output.renderOutput(dataTable, element);\n",
              "          const docLink = document.createElement('div');\n",
              "          docLink.innerHTML = docLinkHtml;\n",
              "          element.appendChild(docLink);\n",
              "        }\n",
              "      </script>\n",
              "    </div>\n",
              "  </div>\n",
              "  "
            ]
          },
          "metadata": {},
          "execution_count": 34
        }
      ]
    },
    {
      "cell_type": "markdown",
      "metadata": {
        "id": "HdH3mNkqipW0"
      },
      "source": [
        "- We are using `tfdocs.plots.HistoryPlotter()` to plot our model history.\n"
      ]
    },
    {
      "cell_type": "code",
      "metadata": {
        "id": "czYtZS9A6D-X"
      },
      "source": [
        "plotter = tfdocs.plots.HistoryPlotter(smoothing_std=2)"
      ],
      "execution_count": null,
      "outputs": []
    },
    {
      "cell_type": "markdown",
      "metadata": {
        "id": "yn74tWRwjAR0"
      },
      "source": [
        "- Specifying the name of our **history** object in the `plotter.plot()` method.\n",
        "\n",
        "- We also need to specify the **metric** we want to plot."
      ]
    },
    {
      "cell_type": "markdown",
      "metadata": {
        "id": "qHfIGDF4j-H1"
      },
      "source": [
        "- Plotting the **MAE** plot for train and val set."
      ]
    },
    {
      "cell_type": "code",
      "metadata": {
        "id": "nMCWKskbUTvG",
        "colab": {
          "base_uri": "https://localhost:8080/",
          "height": 473
        },
        "outputId": "888c198d-517a-46d3-8b46-663a5a6d2459"
      },
      "source": [
        "plotter.plot({'Basic': history}, metric=\"mae\")\n",
        "plt.ylim([0, 10])\n",
        "plt.ylabel('MAE [MPG]')"
      ],
      "execution_count": null,
      "outputs": [
        {
          "output_type": "execute_result",
          "data": {
            "text/plain": [
              "Text(0, 0.5, 'MAE [MPG]')"
            ]
          },
          "metadata": {},
          "execution_count": 36
        },
        {
          "output_type": "display_data",
          "data": {
            "text/plain": [
              "<Figure size 640x480 with 1 Axes>"
            ],
            "image/png": "[encoded data removed]"
          },
          "metadata": {}
        }
      ]
    },
    {
      "cell_type": "markdown",
      "metadata": {
        "id": "Hg6k_D_RkD56"
      },
      "source": [
        "- Plotting the **MSE** plot for train and val set."
      ]
    },
    {
      "cell_type": "code",
      "metadata": {
        "id": "N9u74b1tXMd9",
        "colab": {
          "base_uri": "https://localhost:8080/",
          "height": 473
        },
        "outputId": "7eae29c2-7225-4dfa-8b28-d15e660e0eb4"
      },
      "source": [
        "plotter.plot({'Basic': history}, metric=\"mse\")\n",
        "plt.ylim([0, 20])\n",
        "plt.ylabel('MSE [MPG^2]')"
      ],
      "execution_count": null,
      "outputs": [
        {
          "output_type": "execute_result",
          "data": {
            "text/plain": [
              "Text(0, 0.5, 'MSE [MPG^2]')"
            ]
          },
          "metadata": {},
          "execution_count": 37
        },
        {
          "output_type": "display_data",
          "data": {
            "text/plain": [
              "<Figure size 640x480 with 1 Axes>"
            ],
            "image/png": "[encoded data removed]"
          },
          "metadata": {}
        }
      ]
    },
    {
      "cell_type": "markdown",
      "metadata": {
        "id": "AqsuANc11FYv"
      },
      "source": [
        "- This graph shows little improvement, or even degradation in the validation error after about 100 epochs.\n",
        "\n",
        "- Let's update the `model.fit` call to automatically stop training when the validation score doesn't improve.\n",
        "\n",
        "- We'll use an *EarlyStopping callback* that tests a training condition for  every epoch.\n",
        "\n",
        "  - If a set amount of epochs elapses without showing improvement, then automatically stop the training."
      ]
    },
    {
      "cell_type": "code",
      "metadata": {
        "id": "l0e1Io0ZkWFh"
      },
      "source": [
        "model = build_model()"
      ],
      "execution_count": null,
      "outputs": []
    },
    {
      "cell_type": "code",
      "metadata": {
        "id": "2_lBHgyhkYvL"
      },
      "source": [
        "# The patience parameter is the amount of epochs to check for improvement\n",
        "early_stop = keras.callbacks.EarlyStopping(monitor='val_loss', patience=10)"
      ],
      "execution_count": null,
      "outputs": []
    },
    {
      "cell_type": "code",
      "metadata": {
        "id": "fdMZuhUgzMZ4",
        "colab": {
          "base_uri": "https://localhost:8080/"
        },
        "outputId": "fa4ab0f2-efe8-4145-ba54-582fede48ae6"
      },
      "source": [
        "early_history = model.fit(normed_train_data, train_labels, epochs=EPOCHS, validation_split=0.2,\n",
        "                          verbose=0, callbacks=[early_stop, tfdocs.modeling.EpochDots()])"
      ],
      "execution_count": null,
      "outputs": [
        {
          "output_type": "stream",
          "name": "stdout",
          "text": [
            "\n",
            "Epoch: 0, loss:575.0304,  mae:22.7683,  mse:575.0304,  val_loss:567.9904,  val_mae:22.5740,  val_mse:567.9904,  \n",
            "............................................................"
          ]
        }
      ]
    },
    {
      "cell_type": "code",
      "metadata": {
        "id": "W-OkQScflmwm",
        "colab": {
          "base_uri": "https://localhost:8080/",
          "height": 206
        },
        "outputId": "45cf7389-dfe0-4c2d-8a1f-90ccd4f769ae"
      },
      "source": [
        "early_hist = pd.DataFrame(early_history.history)\n",
        "early_hist['epoch'] = early_history.epoch\n",
        "early_hist.tail()"
      ],
      "execution_count": null,
      "outputs": [
        {
          "output_type": "execute_result",
          "data": {
            "text/plain": [
              "        loss       mae       mse  val_loss   val_mae   val_mse  epoch\n",
              "55  7.047298  1.868104  7.047298  9.239787  2.300118  9.239787     55\n",
              "56  7.068139  1.899239  7.068139  9.283513  2.356719  9.283513     56\n",
              "57  7.188550  1.895974  7.188550  9.219475  2.323151  9.219475     57\n",
              "58  6.939347  1.846792  6.939347  9.350038  2.404932  9.350038     58\n",
              "59  7.029370  1.849751  7.029370  9.191617  2.298328  9.191617     59"
            ],
            "text/html": [
              "\n",
              "  <div id=\"df-95fc41fe-08a3-4270-b9e6-09798825bfed\">\n",
              "    <div class=\"colab-df-container\">\n",
              "      <div>\n",
              "<style scoped>\n",
              "    .dataframe tbody tr th:only-of-type {\n",
              "        vertical-align: middle;\n",
              "    }\n",
              "\n",
              "    .dataframe tbody tr th {\n",
              "        vertical-align: top;\n",
              "    }\n",
              "\n",
              "    .dataframe thead th {\n",
              "        text-align: right;\n",
              "    }\n",
              "</style>\n",
              "<table border=\"1\" class=\"dataframe\">\n",
              "  <thead>\n",
              "    <tr style=\"text-align: right;\">\n",
              "      <th></th>\n",
              "      <th>loss</th>\n",
              "      <th>mae</th>\n",
              "      <th>mse</th>\n",
              "      <th>val_loss</th>\n",
              "      <th>val_mae</th>\n",
              "      <th>val_mse</th>\n",
              "      <th>epoch</th>\n",
              "    </tr>\n",
              "  </thead>\n",
              "  <tbody>\n",
              "    <tr>\n",
              "      <th>55</th>\n",
              "      <td>7.047298</td>\n",
              "      <td>1.868104</td>\n",
              "      <td>7.047298</td>\n",
              "      <td>9.239787</td>\n",
              "      <td>2.300118</td>\n",
              "      <td>9.239787</td>\n",
              "      <td>55</td>\n",
              "    </tr>\n",
              "    <tr>\n",
              "      <th>56</th>\n",
              "      <td>7.068139</td>\n",
              "      <td>1.899239</td>\n",
              "      <td>7.068139</td>\n",
              "      <td>9.283513</td>\n",
              "      <td>2.356719</td>\n",
              "      <td>9.283513</td>\n",
              "      <td>56</td>\n",
              "    </tr>\n",
              "    <tr>\n",
              "      <th>57</th>\n",
              "      <td>7.188550</td>\n",
              "      <td>1.895974</td>\n",
              "      <td>7.188550</td>\n",
              "      <td>9.219475</td>\n",
              "      <td>2.323151</td>\n",
              "      <td>9.219475</td>\n",
              "      <td>57</td>\n",
              "    </tr>\n",
              "    <tr>\n",
              "      <th>58</th>\n",
              "      <td>6.939347</td>\n",
              "      <td>1.846792</td>\n",
              "      <td>6.939347</td>\n",
              "      <td>9.350038</td>\n",
              "      <td>2.404932</td>\n",
              "      <td>9.350038</td>\n",
              "      <td>58</td>\n",
              "    </tr>\n",
              "    <tr>\n",
              "      <th>59</th>\n",
              "      <td>7.029370</td>\n",
              "      <td>1.849751</td>\n",
              "      <td>7.029370</td>\n",
              "      <td>9.191617</td>\n",
              "      <td>2.298328</td>\n",
              "      <td>9.191617</td>\n",
              "      <td>59</td>\n",
              "    </tr>\n",
              "  </tbody>\n",
              "</table>\n",
              "</div>\n",
              "      <button class=\"colab-df-convert\" onclick=\"convertToInteractive('df-95fc41fe-08a3-4270-b9e6-09798825bfed')\"\n",
              "              title=\"Convert this dataframe to an interactive table.\"\n",
              "              style=\"display:none;\">\n",
              "        \n",
              "  <svg xmlns=\"http://www.w3.org/2000/svg\" height=\"24px\"viewBox=\"0 0 24 24\"\n",
              "       width=\"24px\">\n",
              "    <path d=\"M0 0h24v24H0V0z\" fill=\"none\"/>\n",
              "    <path d=\"M18.56 5.44l.94 2.06.94-2.06 2.06-.94-2.06-.94-.94-2.06-.94 2.06-2.06.94zm-11 1L8.5 8.5l.94-2.06 2.06-.94-2.06-.94L8.5 2.5l-.94 2.06-2.06.94zm10 10l.94 2.06.94-2.06 2.06-.94-2.06-.94-.94-2.06-.94 2.06-2.06.94z\"/><path d=\"M17.41 7.96l-1.37-1.37c-.4-.4-.92-.59-1.43-.59-.52 0-1.04.2-1.43.59L10.3 9.45l-7.72 7.72c-.78.78-.78 2.05 0 2.83L4 21.41c.39.39.9.59 1.41.59.51 0 1.02-.2 1.41-.59l7.78-7.78 2.81-2.81c.8-.78.8-2.07 0-2.86zM5.41 20L4 18.59l7.72-7.72 1.47 1.35L5.41 20z\"/>\n",
              "  </svg>\n",
              "      </button>\n",
              "      \n",
              "  <style>\n",
              "    .colab-df-container {\n",
              "      display:flex;\n",
              "      flex-wrap:wrap;\n",
              "      gap: 12px;\n",
              "    }\n",
              "\n",
              "    .colab-df-convert {\n",
              "      background-color: #E8F0FE;\n",
              "      border: none;\n",
              "      border-radius: 50%;\n",
              "      cursor: pointer;\n",
              "      display: none;\n",
              "      fill: #1967D2;\n",
              "      height: 32px;\n",
              "      padding: 0 0 0 0;\n",
              "      width: 32px;\n",
              "    }\n",
              "\n",
              "    .colab-df-convert:hover {\n",
              "      background-color: #E2EBFA;\n",
              "      box-shadow: 0px 1px 2px rgba(60, 64, 67, 0.3), 0px 1px 3px 1px rgba(60, 64, 67, 0.15);\n",
              "      fill: #174EA6;\n",
              "    }\n",
              "\n",
              "    [theme=dark] .colab-df-convert {\n",
              "      background-color: #3B4455;\n",
              "      fill: #D2E3FC;\n",
              "    }\n",
              "\n",
              "    [theme=dark] .colab-df-convert:hover {\n",
              "      background-color: #434B5C;\n",
              "      box-shadow: 0px 1px 3px 1px rgba(0, 0, 0, 0.15);\n",
              "      filter: drop-shadow(0px 1px 2px rgba(0, 0, 0, 0.3));\n",
              "      fill: #FFFFFF;\n",
              "    }\n",
              "  </style>\n",
              "\n",
              "      <script>\n",
              "        const buttonEl =\n",
              "          document.querySelector('#df-95fc41fe-08a3-4270-b9e6-09798825bfed button.colab-df-convert');\n",
              "        buttonEl.style.display =\n",
              "          google.colab.kernel.accessAllowed ? 'block' : 'none';\n",
              "\n",
              "        async function convertToInteractive(key) {\n",
              "          const element = document.querySelector('#df-95fc41fe-08a3-4270-b9e6-09798825bfed');\n",
              "          const dataTable =\n",
              "            await google.colab.kernel.invokeFunction('convertToInteractive',\n",
              "                                                     [key], {});\n",
              "          if (!dataTable) return;\n",
              "\n",
              "          const docLinkHtml = 'Like what you see? Visit the ' +\n",
              "            '<a target=\"_blank\" href=https://colab.research.google.com/notebooks/data_table.ipynb>data table notebook</a>'\n",
              "            + ' to learn more about interactive tables.';\n",
              "          element.innerHTML = '';\n",
              "          dataTable['output_type'] = 'display_data';\n",
              "          await google.colab.output.renderOutput(dataTable, element);\n",
              "          const docLink = document.createElement('div');\n",
              "          docLink.innerHTML = docLinkHtml;\n",
              "          element.appendChild(docLink);\n",
              "        }\n",
              "      </script>\n",
              "    </div>\n",
              "  </div>\n",
              "  "
            ]
          },
          "metadata": {},
          "execution_count": 41
        }
      ]
    },
    {
      "cell_type": "markdown",
      "metadata": {
        "id": "PrQWOEpzlybA"
      },
      "source": [
        "- The training stopped before completing the 1000 epochs due to our EarlyStopping callback."
      ]
    },
    {
      "cell_type": "code",
      "metadata": {
        "id": "LcopvQh3X-kX",
        "colab": {
          "base_uri": "https://localhost:8080/",
          "height": 473
        },
        "outputId": "b05327c1-0250-4241-a2e8-e1c7a4b4b28a"
      },
      "source": [
        "plotter.plot({'Early Stopping': early_history}, metric=\"mae\")\n",
        "plt.ylim([0, 10])\n",
        "plt.ylabel('MAE [MPG]')"
      ],
      "execution_count": null,
      "outputs": [
        {
          "output_type": "execute_result",
          "data": {
            "text/plain": [
              "Text(0, 0.5, 'MAE [MPG]')"
            ]
          },
          "metadata": {},
          "execution_count": 42
        },
        {
          "output_type": "display_data",
          "data": {
            "text/plain": [
              "<Figure size 640x480 with 1 Axes>"
            ],
            "image/png": "[encoded data removed]"
          },
          "metadata": {}
        }
      ]
    },
    {
      "cell_type": "markdown",
      "metadata": {
        "id": "3St8-DmrX8P4"
      },
      "source": [
        "- The graph shows that on the validation set, the average error is usually around **+/- 2 MPG**.\n",
        "\n",
        "- Is this good? We'll leave that decision up to you."
      ]
    },
    {
      "cell_type": "markdown",
      "metadata": {
        "id": "tojqpsyuk4aY"
      },
      "source": [
        "- Let's see how well the model generalizes by using the **test** set, which we did not use when training the model.\n",
        "\n",
        "- This tells us how well we can expect the model to predict when we use it in the real world."
      ]
    },
    {
      "cell_type": "code",
      "metadata": {
        "id": "jl_yNr5n1kms",
        "colab": {
          "base_uri": "https://localhost:8080/"
        },
        "outputId": "07737a82-7374-4a6d-9f36-3e7ddf5906cd"
      },
      "source": [
        "loss, mae, mse = model.evaluate(normed_test_data, test_labels, verbose=2)\n",
        "\n",
        "print(\"Testing set Mean Abs Error: {:5.2f} MPG\".format(mae))"
      ],
      "execution_count": null,
      "outputs": [
        {
          "output_type": "stream",
          "name": "stdout",
          "text": [
            "3/3 - 0s - loss: 5.8687 - mae: 1.8692 - mse: 5.8687 - 37ms/epoch - 12ms/step\n",
            "Testing set Mean Abs Error:  1.87 MPG\n"
          ]
        }
      ]
    },
    {
      "cell_type": "markdown",
      "metadata": {
        "id": "gtOPvd8dm8SM"
      },
      "source": [
        "- We get a MAE of **less than 2 MPG** on the test set."
      ]
    },
    {
      "cell_type": "markdown",
      "metadata": {
        "id": "ft603OzXuEZC"
      },
      "source": [
        "<a name=section34></a>\n",
        "\n",
        "### **3.4 Make Predictions**\n",
        "\n",
        "- Finally, **predict MPG** values using data in the testing set:"
      ]
    },
    {
      "cell_type": "code",
      "source": [
        "print(model.predict(normed_test_data))"
      ],
      "metadata": {
        "id": "b71GfGPTdUYf"
      },
      "execution_count": null,
      "outputs": []
    },
    {
      "cell_type": "code",
      "source": [
        "test_predictions"
      ],
      "metadata": {
        "colab": {
          "base_uri": "https://localhost:8080/"
        },
        "id": "SyT8DmwddXfY",
        "outputId": "6b215fbb-489c-479b-cf02-8e417e8f3d5e"
      },
      "execution_count": null,
      "outputs": [
        {
          "output_type": "execute_result",
          "data": {
            "text/plain": [
              "array([16.033627, 10.616225, 10.657065, 23.058949, 21.877619, 13.214953,\n",
              "       13.037876, 12.836605, 19.784607, 29.117542, 24.801426, 24.328413,\n",
              "       14.404908, 26.248182, 12.788146, 14.219338, 15.005557, 13.312318,\n",
              "       19.202156, 12.621305, 13.935023, 26.316605, 20.324947, 21.145582,\n",
              "       29.936554, 23.562355, 16.342403, 22.73616 , 17.397154, 19.495739,\n",
              "       28.106894, 21.337566, 18.992662, 22.03268 , 26.243628, 16.200096,\n",
              "       19.583908, 31.901567, 30.216007, 17.677189, 31.116652, 29.363152,\n",
              "       16.23635 , 36.368427, 34.878487, 35.711132, 20.81264 , 22.233377,\n",
              "       21.171822, 26.507153, 30.77878 , 19.110142, 32.480236, 18.48342 ,\n",
              "       17.86203 , 17.97703 , 33.215134, 35.036705, 22.37942 , 25.411392,\n",
              "       38.55983 , 33.41178 , 28.740116, 28.195377, 32.96891 , 39.711926,\n",
              "       37.10314 , 36.476715, 33.52237 , 30.623121, 22.212564, 22.462719,\n",
              "       30.566988, 31.793694, 35.726288, 36.326614, 38.59069 , 31.048271],\n",
              "      dtype=float32)"
            ]
          },
          "metadata": {},
          "execution_count": 47
        }
      ]
    },
    {
      "cell_type": "code",
      "metadata": {
        "id": "QwnhW3WllMuM",
        "colab": {
          "base_uri": "https://localhost:8080/"
        },
        "outputId": "6273a0e1-817f-474c-e853-2051d9c4b59f"
      },
      "source": [
        "test_predictions = model.predict(normed_test_data).flatten()"
      ],
      "execution_count": null,
      "outputs": [
        {
          "output_type": "stream",
          "name": "stdout",
          "text": [
            "3/3 [==============================] - 0s 3ms/step\n"
          ]
        }
      ]
    },
    {
      "cell_type": "code",
      "metadata": {
        "id": "Xe7RXH3N3CWU",
        "colab": {
          "base_uri": "https://localhost:8080/",
          "height": 455
        },
        "outputId": "f1982665-ec20-4621-f0f9-3ac35d36a21b"
      },
      "source": [
        "a = plt.axes(aspect='equal')\n",
        "plt.scatter(test_labels, test_predictions)\n",
        "plt.xlabel('True Values [MPG]')\n",
        "plt.ylabel('Predictions [MPG]')\n",
        "lims = [0, 50]\n",
        "plt.xlim(lims)\n",
        "plt.ylim(lims)\n",
        "_ = plt.plot(lims, lims)"
      ],
      "execution_count": null,
      "outputs": [
        {
          "output_type": "display_data",
          "data": {
            "text/plain": [
              "<Figure size 640x480 with 1 Axes>"
            ],
            "image/png": "[encoded data removed]"
          },
          "metadata": {}
        }
      ]
    },
    {
      "cell_type": "markdown",
      "metadata": {
        "id": "19wyogbOSU5t"
      },
      "source": [
        "- It looks like our model predicts reasonably well.\n",
        "\n",
        "- Let's take a look at the **error** distribution."
      ]
    },
    {
      "cell_type": "code",
      "metadata": {
        "id": "-5Q1c0GHldwW"
      },
      "source": [
        "error = test_predictions - test_labels"
      ],
      "execution_count": null,
      "outputs": []
    },
    {
      "cell_type": "code",
      "metadata": {
        "id": "f-OHX4DiXd8x",
        "colab": {
          "base_uri": "https://localhost:8080/",
          "height": 449
        },
        "outputId": "92158aa5-30cc-4488-c4e6-4acf863acf1b"
      },
      "source": [
        "plt.hist(error, bins=25)\n",
        "plt.xlabel(\"Prediction Error [MPG]\")\n",
        "_ = plt.ylabel(\"Count\")"
      ],
      "execution_count": null,
      "outputs": [
        {
          "output_type": "display_data",
          "data": {
            "text/plain": [
              "<Figure size 640x480 with 1 Axes>"
            ],
            "image/png": "[encoded data removed]"
          },
          "metadata": {}
        }
      ]
    },
    {
      "cell_type": "markdown",
      "metadata": {
        "id": "m0CB5tBjSU5w"
      },
      "source": [
        "- It's not quite gaussian, but we might expect that because the number of samples is very small."
      ]
    },
    {
      "cell_type": "markdown",
      "metadata": {
        "id": "M5nJiBilJUBl"
      },
      "source": [
        "<a name=section4></a>\n",
        "\n",
        "----\n",
        "## **4. Model Tuning**\n",
        "----"
      ]
    },
    {
      "cell_type": "markdown",
      "metadata": {
        "id": "OjfoiQTRKJD4"
      },
      "source": [
        "- We have already achieved very good result on our test set.\n",
        "\n",
        "- If we train the model for too long, the model will start to overfit and learn patterns from the training data that don't generalize to the test data.\n",
        "\n",
        "  - We need to strike a balance.\n",
        "\n",
        "  - We have already learned how to train for an appropriate number of epochs using the **Early Stopping** callback.\n",
        "\n",
        "- And, now we will experiment some additional methods to **improve** the model **performance** and reduce overfitting.\n",
        "\n",
        "  - These methods will all be applied during model building."
      ]
    },
    {
      "cell_type": "markdown",
      "metadata": {
        "id": "VIApFoPyJepz"
      },
      "source": [
        "<a name=section41></a>\n",
        "\n",
        "### **4.1 Increasing the Number of Hidden Layers and Hidden Units**"
      ]
    },
    {
      "cell_type": "markdown",
      "metadata": {
        "id": "cQVp-itGRTSe"
      },
      "source": [
        "- We can improve model performance by increasing the number of hidden layers and hidden units in the model.\n",
        "\n",
        "  - But this can result in overfitting.\n",
        "\n",
        "- Here, we are increasing the number of **hidden layers** from 2 to **4** i. e. adding 2 additional layers.\n",
        "\n",
        "- Next, we are using **256 hidden units** instead of 64."
      ]
    },
    {
      "cell_type": "code",
      "metadata": {
        "id": "N-rzA-MULKlL"
      },
      "source": [
        "model = keras.Sequential([layers.Dense(256, activation='relu', input_shape=[len(train_dataset.keys())]),\n",
        "                          layers.Dense(256, activation='relu'),\n",
        "                          layers.Dense(256, activation='relu'),\n",
        "                          layers.Dense(256, activation='relu'),\n",
        "                          layers.Dense(1)])"
      ],
      "execution_count": null,
      "outputs": []
    },
    {
      "cell_type": "code",
      "metadata": {
        "id": "0y_7Xdc5XIHM",
        "colab": {
          "base_uri": "https://localhost:8080/"
        },
        "outputId": "cc09e44c-cd70-4be9-a381-88c4901afe63"
      },
      "source": [
        "model.summary()"
      ],
      "execution_count": null,
      "outputs": [
        {
          "output_type": "stream",
          "name": "stdout",
          "text": [
            "Model: \"sequential_2\"\n",
            "_________________________________________________________________\n",
            " Layer (type)                Output Shape              Param #   \n",
            "=================================================================\n",
            " dense_6 (Dense)             (None, 256)               2560      \n",
            "                                                                 \n",
            " dense_7 (Dense)             (None, 256)               65792     \n",
            "                                                                 \n",
            " dense_8 (Dense)             (None, 256)               65792     \n",
            "                                                                 \n",
            " dense_9 (Dense)             (None, 256)               65792     \n",
            "                                                                 \n",
            " dense_10 (Dense)            (None, 1)                 257       \n",
            "                                                                 \n",
            "=================================================================\n",
            "Total params: 200,193\n",
            "Trainable params: 200,193\n",
            "Non-trainable params: 0\n",
            "_________________________________________________________________\n"
          ]
        }
      ]
    },
    {
      "cell_type": "code",
      "metadata": {
        "id": "iruVj2Z6Kp3u"
      },
      "source": [
        "# Defining the optimizer with a specific learning rate of 0.001\n",
        "optimizer = tf.keras.optimizers.RMSprop(0.001)\n",
        "\n",
        "# Compiling the model\n",
        "model.compile(loss='mse', optimizer=optimizer, metrics=['mae', 'mse'])"
      ],
      "execution_count": null,
      "outputs": []
    },
    {
      "cell_type": "markdown",
      "metadata": {
        "id": "1zWZ9AZ1XMK4"
      },
      "source": [
        "- We are not using the Early Stopping callback now.\n",
        "\n",
        "- The model will be trained for **100 epochs**."
      ]
    },
    {
      "cell_type": "code",
      "metadata": {
        "id": "l-JAVgBXKp32",
        "colab": {
          "base_uri": "https://localhost:8080/"
        },
        "outputId": "cee752b6-49f1-47f4-81c6-ad803a17cbcf"
      },
      "source": [
        "history_large = model.fit(normed_train_data, train_labels, epochs=100, validation_split=0.2,\n",
        "                          verbose=0, callbacks=[tfdocs.modeling.EpochDots()])"
      ],
      "execution_count": null,
      "outputs": [
        {
          "output_type": "stream",
          "name": "stdout",
          "text": [
            "\n",
            "Epoch: 0, loss:296.6683,  mae:14.2002,  mse:296.6683,  val_loss:40.8440,  val_mae:4.7576,  val_mse:40.8440,  \n",
            "...................................................................................................."
          ]
        }
      ]
    },
    {
      "cell_type": "code",
      "metadata": {
        "id": "T704VIcvKp34",
        "colab": {
          "base_uri": "https://localhost:8080/",
          "height": 206
        },
        "outputId": "639513da-34bc-4578-c8fd-e0503d859d40"
      },
      "source": [
        "hist_large = pd.DataFrame(history_large.history)\n",
        "hist_large['epoch'] = history_large.epoch\n",
        "hist_large.tail()"
      ],
      "execution_count": null,
      "outputs": [
        {
          "output_type": "execute_result",
          "data": {
            "text/plain": [
              "         loss       mae        mse   val_loss   val_mae    val_mse  epoch\n",
              "95  11.242521  2.477905  11.242521  10.401592  2.537851  10.401592     95\n",
              "96   6.705529  1.884670   6.705529  10.745462  2.576438  10.745462     96\n",
              "97   6.972970  2.009717   6.972970  10.434609  2.360862  10.434609     97\n",
              "98   8.757303  2.251545   8.757303   8.280446  2.212225   8.280446     98\n",
              "99   7.556558  2.027442   7.556558  12.199152  2.612072  12.199152     99"
            ],
            "text/html": [
              "\n",
              "  <div id=\"df-f74bb7e1-c744-411c-8a91-4c3cbecc784d\">\n",
              "    <div class=\"colab-df-container\">\n",
              "      <div>\n",
              "<style scoped>\n",
              "    .dataframe tbody tr th:only-of-type {\n",
              "        vertical-align: middle;\n",
              "    }\n",
              "\n",
              "    .dataframe tbody tr th {\n",
              "        vertical-align: top;\n",
              "    }\n",
              "\n",
              "    .dataframe thead th {\n",
              "        text-align: right;\n",
              "    }\n",
              "</style>\n",
              "<table border=\"1\" class=\"dataframe\">\n",
              "  <thead>\n",
              "    <tr style=\"text-align: right;\">\n",
              "      <th></th>\n",
              "      <th>loss</th>\n",
              "      <th>mae</th>\n",
              "      <th>mse</th>\n",
              "      <th>val_loss</th>\n",
              "      <th>val_mae</th>\n",
              "      <th>val_mse</th>\n",
              "      <th>epoch</th>\n",
              "    </tr>\n",
              "  </thead>\n",
              "  <tbody>\n",
              "    <tr>\n",
              "      <th>95</th>\n",
              "      <td>11.242521</td>\n",
              "      <td>2.477905</td>\n",
              "      <td>11.242521</td>\n",
              "      <td>10.401592</td>\n",
              "      <td>2.537851</td>\n",
              "      <td>10.401592</td>\n",
              "      <td>95</td>\n",
              "    </tr>\n",
              "    <tr>\n",
              "      <th>96</th>\n",
              "      <td>6.705529</td>\n",
              "      <td>1.884670</td>\n",
              "      <td>6.705529</td>\n",
              "      <td>10.745462</td>\n",
              "      <td>2.576438</td>\n",
              "      <td>10.745462</td>\n",
              "      <td>96</td>\n",
              "    </tr>\n",
              "    <tr>\n",
              "      <th>97</th>\n",
              "      <td>6.972970</td>\n",
              "      <td>2.009717</td>\n",
              "      <td>6.972970</td>\n",
              "      <td>10.434609</td>\n",
              "      <td>2.360862</td>\n",
              "      <td>10.434609</td>\n",
              "      <td>97</td>\n",
              "    </tr>\n",
              "    <tr>\n",
              "      <th>98</th>\n",
              "      <td>8.757303</td>\n",
              "      <td>2.251545</td>\n",
              "      <td>8.757303</td>\n",
              "      <td>8.280446</td>\n",
              "      <td>2.212225</td>\n",
              "      <td>8.280446</td>\n",
              "      <td>98</td>\n",
              "    </tr>\n",
              "    <tr>\n",
              "      <th>99</th>\n",
              "      <td>7.556558</td>\n",
              "      <td>2.027442</td>\n",
              "      <td>7.556558</td>\n",
              "      <td>12.199152</td>\n",
              "      <td>2.612072</td>\n",
              "      <td>12.199152</td>\n",
              "      <td>99</td>\n",
              "    </tr>\n",
              "  </tbody>\n",
              "</table>\n",
              "</div>\n",
              "      <button class=\"colab-df-convert\" onclick=\"convertToInteractive('df-f74bb7e1-c744-411c-8a91-4c3cbecc784d')\"\n",
              "              title=\"Convert this dataframe to an interactive table.\"\n",
              "              style=\"display:none;\">\n",
              "        \n",
              "  <svg xmlns=\"http://www.w3.org/2000/svg\" height=\"24px\"viewBox=\"0 0 24 24\"\n",
              "       width=\"24px\">\n",
              "    <path d=\"M0 0h24v24H0V0z\" fill=\"none\"/>\n",
              "    <path d=\"M18.56 5.44l.94 2.06.94-2.06 2.06-.94-2.06-.94-.94-2.06-.94 2.06-2.06.94zm-11 1L8.5 8.5l.94-2.06 2.06-.94-2.06-.94L8.5 2.5l-.94 2.06-2.06.94zm10 10l.94 2.06.94-2.06 2.06-.94-2.06-.94-.94-2.06-.94 2.06-2.06.94z\"/><path d=\"M17.41 7.96l-1.37-1.37c-.4-.4-.92-.59-1.43-.59-.52 0-1.04.2-1.43.59L10.3 9.45l-7.72 7.72c-.78.78-.78 2.05 0 2.83L4 21.41c.39.39.9.59 1.41.59.51 0 1.02-.2 1.41-.59l7.78-7.78 2.81-2.81c.8-.78.8-2.07 0-2.86zM5.41 20L4 18.59l7.72-7.72 1.47 1.35L5.41 20z\"/>\n",
              "  </svg>\n",
              "      </button>\n",
              "      \n",
              "  <style>\n",
              "    .colab-df-container {\n",
              "      display:flex;\n",
              "      flex-wrap:wrap;\n",
              "      gap: 12px;\n",
              "    }\n",
              "\n",
              "    .colab-df-convert {\n",
              "      background-color: #E8F0FE;\n",
              "      border: none;\n",
              "      border-radius: 50%;\n",
              "      cursor: pointer;\n",
              "      display: none;\n",
              "      fill: #1967D2;\n",
              "      height: 32px;\n",
              "      padding: 0 0 0 0;\n",
              "      width: 32px;\n",
              "    }\n",
              "\n",
              "    .colab-df-convert:hover {\n",
              "      background-color: #E2EBFA;\n",
              "      box-shadow: 0px 1px 2px rgba(60, 64, 67, 0.3), 0px 1px 3px 1px rgba(60, 64, 67, 0.15);\n",
              "      fill: #174EA6;\n",
              "    }\n",
              "\n",
              "    [theme=dark] .colab-df-convert {\n",
              "      background-color: #3B4455;\n",
              "      fill: #D2E3FC;\n",
              "    }\n",
              "\n",
              "    [theme=dark] .colab-df-convert:hover {\n",
              "      background-color: #434B5C;\n",
              "      box-shadow: 0px 1px 3px 1px rgba(0, 0, 0, 0.15);\n",
              "      filter: drop-shadow(0px 1px 2px rgba(0, 0, 0, 0.3));\n",
              "      fill: #FFFFFF;\n",
              "    }\n",
              "  </style>\n",
              "\n",
              "      <script>\n",
              "        const buttonEl =\n",
              "          document.querySelector('#df-f74bb7e1-c744-411c-8a91-4c3cbecc784d button.colab-df-convert');\n",
              "        buttonEl.style.display =\n",
              "          google.colab.kernel.accessAllowed ? 'block' : 'none';\n",
              "\n",
              "        async function convertToInteractive(key) {\n",
              "          const element = document.querySelector('#df-f74bb7e1-c744-411c-8a91-4c3cbecc784d');\n",
              "          const dataTable =\n",
              "            await google.colab.kernel.invokeFunction('convertToInteractive',\n",
              "                                                     [key], {});\n",
              "          if (!dataTable) return;\n",
              "\n",
              "          const docLinkHtml = 'Like what you see? Visit the ' +\n",
              "            '<a target=\"_blank\" href=https://colab.research.google.com/notebooks/data_table.ipynb>data table notebook</a>'\n",
              "            + ' to learn more about interactive tables.';\n",
              "          element.innerHTML = '';\n",
              "          dataTable['output_type'] = 'display_data';\n",
              "          await google.colab.output.renderOutput(dataTable, element);\n",
              "          const docLink = document.createElement('div');\n",
              "          docLink.innerHTML = docLinkHtml;\n",
              "          element.appendChild(docLink);\n",
              "        }\n",
              "      </script>\n",
              "    </div>\n",
              "  </div>\n",
              "  "
            ]
          },
          "metadata": {},
          "execution_count": 55
        }
      ]
    },
    {
      "cell_type": "code",
      "metadata": {
        "id": "aNrCwF7RJimw",
        "colab": {
          "base_uri": "https://localhost:8080/",
          "height": 473
        },
        "outputId": "8bec2185-4bcc-4f3f-d2ff-d91cc60142f9"
      },
      "source": [
        "plotter.plot({'Large Model': history_large}, metric=\"mae\")\n",
        "plt.ylim([0, 10])\n",
        "plt.ylabel('MAE [MPG]')"
      ],
      "execution_count": null,
      "outputs": [
        {
          "output_type": "execute_result",
          "data": {
            "text/plain": [
              "Text(0, 0.5, 'MAE [MPG]')"
            ]
          },
          "metadata": {},
          "execution_count": 56
        },
        {
          "output_type": "display_data",
          "data": {
            "text/plain": [
              "<Figure size 640x480 with 1 Axes>"
            ],
            "image/png": "[encoded data removed]"
          },
          "metadata": {}
        }
      ]
    },
    {
      "cell_type": "code",
      "metadata": {
        "id": "AZw3Z2yiJizn",
        "colab": {
          "base_uri": "https://localhost:8080/"
        },
        "outputId": "4c180ba0-e5bf-4e27-e022-45794c8e203f"
      },
      "source": [
        "loss, mae, mse = model.evaluate(normed_test_data, test_labels, verbose=2)\n",
        "\n",
        "print(\"Testing set Mean Abs Error: {:5.2f} MPG\".format(mae))"
      ],
      "execution_count": null,
      "outputs": [
        {
          "output_type": "stream",
          "name": "stdout",
          "text": [
            "3/3 - 0s - loss: 11.8152 - mae: 2.8494 - mse: 11.8152 - 38ms/epoch - 13ms/step\n",
            "Testing set Mean Abs Error:  2.85 MPG\n"
          ]
        }
      ]
    },
    {
      "cell_type": "markdown",
      "metadata": {
        "id": "LkZ5Pj6KJ3WZ"
      },
      "source": [
        "- We get a significant increase in the test set error.\n",
        "\n",
        "- The larger model is **overfitting** the train set.\n",
        "\n",
        "- The performance on the test set is worse than our smaller model."
      ]
    },
    {
      "cell_type": "markdown",
      "metadata": {
        "id": "3MKtgfwNJi6n"
      },
      "source": [
        "<a name=section42></a>\n",
        "\n",
        "### **4.2 Weight Regularization**"
      ]
    },
    {
      "cell_type": "markdown",
      "metadata": {
        "id": "KGWhz_NPT5cA"
      },
      "source": [
        "- Regularization places **constraints** on the quantity and type of information the model can store.\n",
        "\n",
        "- If a network can only afford to memorize a small number of patterns, the optimization process will force it to focus on the most prominent patterns, which have a better chance of generalizing well."
      ]
    },
    {
      "cell_type": "markdown",
      "metadata": {
        "id": "gx1V4cRWhY8a"
      },
      "source": [
        "- We can put constraints on the complexity of a network by forcing its weights only to take small values, which makes the distribution of weight values more \"regular\".\n",
        "\n",
        "- This is called \"**weight regularization**\", and it is done by adding to the loss function of the network a cost associated with having large weights."
      ]
    },
    {
      "cell_type": "markdown",
      "metadata": {
        "id": "xneY4mKrkYrz"
      },
      "source": [
        "- This cost comes in two flavors:\n",
        "\n",
        "  - L1 regularization, where the cost added is proportional to the absolute value of the weights coefficients (i.e. to what is called the \"L1 norm\" of the weights).\n",
        "\n",
        "  - L2 regularization, where the cost added is proportional to the square of the value of the weights coefficients (i.e. to what is called the squared \"L2 norm\" of the weights).\n",
        "    - L2 regularization is also called weight decay in the context of neural networks.\n",
        "\n",
        "    - Don't let the different name confuse you: weight decay is mathematically the exact same as L2 regularization."
      ]
    },
    {
      "cell_type": "markdown",
      "metadata": {
        "id": "lBgXBkcbjJ4i"
      },
      "source": [
        "- L1 regularization pushes weights towards exactly zero encouraging a sparse model.\n",
        "\n",
        "- L2 regularization will penalize the weights parameters without making them sparse since the penalty goes to zero for small weights.\n",
        "\n",
        "  - One reason why L2 is more common.\n",
        "\n",
        "- In `tf.keras`, weight regularization is added by passing weight regularizer instances to layers as keyword arguments.\n",
        "\n",
        "- Let's add L2 weight regularization to the model."
      ]
    },
    {
      "cell_type": "code",
      "metadata": {
        "id": "sL4B2G9xWRTg"
      },
      "source": [
        "from tensorflow.keras import regularizers"
      ],
      "execution_count": null,
      "outputs": []
    },
    {
      "cell_type": "code",
      "metadata": {
        "id": "jqTXHlHJXqsc"
      },
      "source": [
        "model = keras.Sequential([layers.Dense(256, activation='relu', kernel_regularizer=regularizers.l2(0.001), input_shape=[len(train_dataset.keys())]),\n",
        "                          layers.Dense(256, activation='relu', kernel_regularizer=regularizers.l2(0.001)),\n",
        "                          layers.Dense(256, activation='relu', kernel_regularizer=regularizers.l2(0.001)),\n",
        "                          layers.Dense(256, activation='relu', kernel_regularizer=regularizers.l2(0.001)),\n",
        "                          layers.Dense(1)])"
      ],
      "execution_count": null,
      "outputs": []
    },
    {
      "cell_type": "markdown",
      "metadata": {
        "id": "xyddXLgSn2lt"
      },
      "source": [
        "- `l2(0.001)` means that every coefficient in the weight matrix of the layer will add `(0.001 * weight_coefficient_value**2)` to the total loss of the network."
      ]
    },
    {
      "cell_type": "code",
      "metadata": {
        "id": "YHNjutsEXqsi",
        "colab": {
          "base_uri": "https://localhost:8080/"
        },
        "outputId": "ead9c5f1-92af-4cc2-9843-31b985f5f5c1"
      },
      "source": [
        "model.summary()"
      ],
      "execution_count": null,
      "outputs": [
        {
          "output_type": "stream",
          "name": "stdout",
          "text": [
            "Model: \"sequential_3\"\n",
            "_________________________________________________________________\n",
            " Layer (type)                Output Shape              Param #   \n",
            "=================================================================\n",
            " dense_11 (Dense)            (None, 256)               2560      \n",
            "                                                                 \n",
            " dense_12 (Dense)            (None, 256)               65792     \n",
            "                                                                 \n",
            " dense_13 (Dense)            (None, 256)               65792     \n",
            "                                                                 \n",
            " dense_14 (Dense)            (None, 256)               65792     \n",
            "                                                                 \n",
            " dense_15 (Dense)            (None, 1)                 257       \n",
            "                                                                 \n",
            "=================================================================\n",
            "Total params: 200,193\n",
            "Trainable params: 200,193\n",
            "Non-trainable params: 0\n",
            "_________________________________________________________________\n"
          ]
        }
      ]
    },
    {
      "cell_type": "code",
      "metadata": {
        "id": "euC9TMa8Xqso"
      },
      "source": [
        "# Defining the optimizer with a specific learning rate of 0.001\n",
        "optimizer = tf.keras.optimizers.RMSprop(0.001)\n",
        "\n",
        "# Compiling the model\n",
        "model.compile(loss='mse', optimizer=optimizer, metrics=['mae', 'mse'])"
      ],
      "execution_count": null,
      "outputs": []
    },
    {
      "cell_type": "code",
      "metadata": {
        "id": "nUcj-apxXqsr",
        "colab": {
          "base_uri": "https://localhost:8080/"
        },
        "outputId": "7ad63039-76c5-48d3-f924-79ec87b51b05"
      },
      "source": [
        "history_l2 = model.fit(normed_train_data, train_labels, epochs=100, validation_split=0.2,\n",
        "                          verbose=0, callbacks=[tfdocs.modeling.EpochDots()])"
      ],
      "execution_count": null,
      "outputs": [
        {
          "output_type": "stream",
          "name": "stdout",
          "text": [
            "\n",
            "Epoch: 0, loss:262.7835,  mae:13.1682,  mse:261.9928,  val_loss:60.0252,  val_mae:6.0000,  val_mse:59.2297,  \n",
            "...................................................................................................."
          ]
        }
      ]
    },
    {
      "cell_type": "code",
      "metadata": {
        "id": "UVmWaRrUXqsv",
        "colab": {
          "base_uri": "https://localhost:8080/",
          "height": 206
        },
        "outputId": "5a62f3f6-5f3a-4810-d2dc-b7ad3f035682"
      },
      "source": [
        "hist_l2 = pd.DataFrame(history_l2.history)\n",
        "hist_l2['epoch'] = history_l2.epoch\n",
        "hist_l2.tail()"
      ],
      "execution_count": null,
      "outputs": [
        {
          "output_type": "execute_result",
          "data": {
            "text/plain": [
              "         loss       mae        mse   val_loss   val_mae    val_mse  epoch\n",
              "95   7.744531  2.233097   7.337790   9.287765  2.258277   8.881709     95\n",
              "96   6.920126  1.870444   6.515090   9.137817  2.249604   8.733427     96\n",
              "97  11.012867  2.400898  10.608927  11.393531  2.496306  10.990016     97\n",
              "98   6.767640  1.895578   6.364639  18.745169  3.640726  18.343885     98\n",
              "99   9.723540  2.355253   9.321737   9.104248  2.305275   8.703129     99"
            ],
            "text/html": [
              "\n",
              "  <div id=\"df-b07491a6-0dac-48a8-b356-aad344952346\">\n",
              "    <div class=\"colab-df-container\">\n",
              "      <div>\n",
              "<style scoped>\n",
              "    .dataframe tbody tr th:only-of-type {\n",
              "        vertical-align: middle;\n",
              "    }\n",
              "\n",
              "    .dataframe tbody tr th {\n",
              "        vertical-align: top;\n",
              "    }\n",
              "\n",
              "    .dataframe thead th {\n",
              "        text-align: right;\n",
              "    }\n",
              "</style>\n",
              "<table border=\"1\" class=\"dataframe\">\n",
              "  <thead>\n",
              "    <tr style=\"text-align: right;\">\n",
              "      <th></th>\n",
              "      <th>loss</th>\n",
              "      <th>mae</th>\n",
              "      <th>mse</th>\n",
              "      <th>val_loss</th>\n",
              "      <th>val_mae</th>\n",
              "      <th>val_mse</th>\n",
              "      <th>epoch</th>\n",
              "    </tr>\n",
              "  </thead>\n",
              "  <tbody>\n",
              "    <tr>\n",
              "      <th>95</th>\n",
              "      <td>7.744531</td>\n",
              "      <td>2.233097</td>\n",
              "      <td>7.337790</td>\n",
              "      <td>9.287765</td>\n",
              "      <td>2.258277</td>\n",
              "      <td>8.881709</td>\n",
              "      <td>95</td>\n",
              "    </tr>\n",
              "    <tr>\n",
              "      <th>96</th>\n",
              "      <td>6.920126</td>\n",
              "      <td>1.870444</td>\n",
              "      <td>6.515090</td>\n",
              "      <td>9.137817</td>\n",
              "      <td>2.249604</td>\n",
              "      <td>8.733427</td>\n",
              "      <td>96</td>\n",
              "    </tr>\n",
              "    <tr>\n",
              "      <th>97</th>\n",
              "      <td>11.012867</td>\n",
              "      <td>2.400898</td>\n",
              "      <td>10.608927</td>\n",
              "      <td>11.393531</td>\n",
              "      <td>2.496306</td>\n",
              "      <td>10.990016</td>\n",
              "      <td>97</td>\n",
              "    </tr>\n",
              "    <tr>\n",
              "      <th>98</th>\n",
              "      <td>6.767640</td>\n",
              "      <td>1.895578</td>\n",
              "      <td>6.364639</td>\n",
              "      <td>18.745169</td>\n",
              "      <td>3.640726</td>\n",
              "      <td>18.343885</td>\n",
              "      <td>98</td>\n",
              "    </tr>\n",
              "    <tr>\n",
              "      <th>99</th>\n",
              "      <td>9.723540</td>\n",
              "      <td>2.355253</td>\n",
              "      <td>9.321737</td>\n",
              "      <td>9.104248</td>\n",
              "      <td>2.305275</td>\n",
              "      <td>8.703129</td>\n",
              "      <td>99</td>\n",
              "    </tr>\n",
              "  </tbody>\n",
              "</table>\n",
              "</div>\n",
              "      <button class=\"colab-df-convert\" onclick=\"convertToInteractive('df-b07491a6-0dac-48a8-b356-aad344952346')\"\n",
              "              title=\"Convert this dataframe to an interactive table.\"\n",
              "              style=\"display:none;\">\n",
              "        \n",
              "  <svg xmlns=\"http://www.w3.org/2000/svg\" height=\"24px\"viewBox=\"0 0 24 24\"\n",
              "       width=\"24px\">\n",
              "    <path d=\"M0 0h24v24H0V0z\" fill=\"none\"/>\n",
              "    <path d=\"M18.56 5.44l.94 2.06.94-2.06 2.06-.94-2.06-.94-.94-2.06-.94 2.06-2.06.94zm-11 1L8.5 8.5l.94-2.06 2.06-.94-2.06-.94L8.5 2.5l-.94 2.06-2.06.94zm10 10l.94 2.06.94-2.06 2.06-.94-2.06-.94-.94-2.06-.94 2.06-2.06.94z\"/><path d=\"M17.41 7.96l-1.37-1.37c-.4-.4-.92-.59-1.43-.59-.52 0-1.04.2-1.43.59L10.3 9.45l-7.72 7.72c-.78.78-.78 2.05 0 2.83L4 21.41c.39.39.9.59 1.41.59.51 0 1.02-.2 1.41-.59l7.78-7.78 2.81-2.81c.8-.78.8-2.07 0-2.86zM5.41 20L4 18.59l7.72-7.72 1.47 1.35L5.41 20z\"/>\n",
              "  </svg>\n",
              "      </button>\n",
              "      \n",
              "  <style>\n",
              "    .colab-df-container {\n",
              "      display:flex;\n",
              "      flex-wrap:wrap;\n",
              "      gap: 12px;\n",
              "    }\n",
              "\n",
              "    .colab-df-convert {\n",
              "      background-color: #E8F0FE;\n",
              "      border: none;\n",
              "      border-radius: 50%;\n",
              "      cursor: pointer;\n",
              "      display: none;\n",
              "      fill: #1967D2;\n",
              "      height: 32px;\n",
              "      padding: 0 0 0 0;\n",
              "      width: 32px;\n",
              "    }\n",
              "\n",
              "    .colab-df-convert:hover {\n",
              "      background-color: #E2EBFA;\n",
              "      box-shadow: 0px 1px 2px rgba(60, 64, 67, 0.3), 0px 1px 3px 1px rgba(60, 64, 67, 0.15);\n",
              "      fill: #174EA6;\n",
              "    }\n",
              "\n",
              "    [theme=dark] .colab-df-convert {\n",
              "      background-color: #3B4455;\n",
              "      fill: #D2E3FC;\n",
              "    }\n",
              "\n",
              "    [theme=dark] .colab-df-convert:hover {\n",
              "      background-color: #434B5C;\n",
              "      box-shadow: 0px 1px 3px 1px rgba(0, 0, 0, 0.15);\n",
              "      filter: drop-shadow(0px 1px 2px rgba(0, 0, 0, 0.3));\n",
              "      fill: #FFFFFF;\n",
              "    }\n",
              "  </style>\n",
              "\n",
              "      <script>\n",
              "        const buttonEl =\n",
              "          document.querySelector('#df-b07491a6-0dac-48a8-b356-aad344952346 button.colab-df-convert');\n",
              "        buttonEl.style.display =\n",
              "          google.colab.kernel.accessAllowed ? 'block' : 'none';\n",
              "\n",
              "        async function convertToInteractive(key) {\n",
              "          const element = document.querySelector('#df-b07491a6-0dac-48a8-b356-aad344952346');\n",
              "          const dataTable =\n",
              "            await google.colab.kernel.invokeFunction('convertToInteractive',\n",
              "                                                     [key], {});\n",
              "          if (!dataTable) return;\n",
              "\n",
              "          const docLinkHtml = 'Like what you see? Visit the ' +\n",
              "            '<a target=\"_blank\" href=https://colab.research.google.com/notebooks/data_table.ipynb>data table notebook</a>'\n",
              "            + ' to learn more about interactive tables.';\n",
              "          element.innerHTML = '';\n",
              "          dataTable['output_type'] = 'display_data';\n",
              "          await google.colab.output.renderOutput(dataTable, element);\n",
              "          const docLink = document.createElement('div');\n",
              "          docLink.innerHTML = docLinkHtml;\n",
              "          element.appendChild(docLink);\n",
              "        }\n",
              "      </script>\n",
              "    </div>\n",
              "  </div>\n",
              "  "
            ]
          },
          "metadata": {},
          "execution_count": 63
        }
      ]
    },
    {
      "cell_type": "code",
      "metadata": {
        "id": "ByochoKtXqsz",
        "colab": {
          "base_uri": "https://localhost:8080/",
          "height": 473
        },
        "outputId": "44d424cc-7965-412d-989b-1a39ce45f142"
      },
      "source": [
        "plotter.plot({'L2 Regularization Model': history_l2}, metric=\"mae\")\n",
        "plt.ylim([0, 10])\n",
        "plt.ylabel('MAE [MPG]')"
      ],
      "execution_count": null,
      "outputs": [
        {
          "output_type": "execute_result",
          "data": {
            "text/plain": [
              "Text(0, 0.5, 'MAE [MPG]')"
            ]
          },
          "metadata": {},
          "execution_count": 64
        },
        {
          "output_type": "display_data",
          "data": {
            "text/plain": [
              "<Figure size 640x480 with 1 Axes>"
            ],
            "image/png": "[encoded data removed]"
          },
          "metadata": {}
        }
      ]
    },
    {
      "cell_type": "code",
      "metadata": {
        "id": "iKBnZXlkXqs4",
        "colab": {
          "base_uri": "https://localhost:8080/"
        },
        "outputId": "4c951250-2f97-4dab-e6e8-6918d11b0f19"
      },
      "source": [
        "loss, mae, mse = model.evaluate(normed_test_data, test_labels, verbose=2)\n",
        "\n",
        "print(\"Testing set Mean Abs Error: {:5.2f} MPG\".format(mae))"
      ],
      "execution_count": null,
      "outputs": [
        {
          "output_type": "stream",
          "name": "stdout",
          "text": [
            "3/3 - 0s - loss: 6.4855 - mae: 1.8120 - mse: 6.0844 - 27ms/epoch - 9ms/step\n",
            "Testing set Mean Abs Error:  1.81 MPG\n"
          ]
        }
      ]
    },
    {
      "cell_type": "markdown",
      "metadata": {
        "id": "qbRPJBSiT5cZ"
      },
      "source": [
        "- After adding L2 regularization, the test set error is reduced.\n",
        "\n",
        "- The performance on the test set is better than the larger model.\n",
        "\n",
        "- The L2 regularized model is much more resistant to overfitting than the larger model."
      ]
    },
    {
      "cell_type": "markdown",
      "metadata": {
        "id": "RvOZFGR2UOIF"
      },
      "source": [
        "<a name=section43></a>\n",
        "\n",
        "### **4.3 Dropout**"
      ]
    },
    {
      "cell_type": "markdown",
      "metadata": {
        "id": "88R8OaRCoVqN"
      },
      "source": [
        "- Dropout is one of the **most effective** and **most commonly used** regularization techniques for neural networks, developed by Hinton and his students at the University of Toronto.\n",
        "\n",
        "- The intuitive explanation for dropout is that because individual nodes in the network cannot rely on the output of the others, each node must output features that are useful on their own.\n",
        "\n",
        "- Dropout, applied to a layer, consists of **randomly** \"**dropping out**\" (i.e. set to zero) a number of **output features** of the layer during training.\n",
        "\n",
        "  - Let's say a given layer would normally have returned a vector [0.2, 0.5, 1.3, 0.8, 1.1] for a given input sample during training.\n",
        "\n",
        "  - After applying dropout, this vector will have a few zero entries distributed at random, e.g. [0, 0.5, 1.3, 0, 1.1].\n",
        "\n",
        "- The \"**dropout rate**\" is the fraction of the features that are being zeroed-out; it is usually set between **0.2** and **0.5**.\n",
        "\n",
        "- *At test time*, **no units are dropped out**, and instead the layer's output values are scaled down by a factor equal to the dropout rate, so as to balance for the fact that more units are active than at training time."
      ]
    },
    {
      "cell_type": "markdown",
      "metadata": {
        "id": "dEZdmMVso23I"
      },
      "source": [
        "- In `tf.keras` we can introduce dropout in a network via the Dropout layer, which gets applied to the output of layer right before.\n",
        "\n",
        "- Let's add Dropout layers in our network to see how well they do at reducing overfitting."
      ]
    },
    {
      "cell_type": "code",
      "metadata": {
        "id": "VoNGoDZ7oVqT"
      },
      "source": [
        "model = keras.Sequential([layers.Dense(256, activation='relu', input_shape=[len(train_dataset.keys())]),\n",
        "                          layers.Dropout(0.2),\n",
        "                          layers.Dense(256, activation='relu'),\n",
        "                          layers.Dropout(0.2),\n",
        "                          layers.Dense(256, activation='relu'),\n",
        "                          layers.Dropout(0.2),\n",
        "                          layers.Dense(256, activation='relu'),\n",
        "                          layers.Dropout(0.2),\n",
        "                          layers.Dense(1)])"
      ],
      "execution_count": null,
      "outputs": []
    },
    {
      "cell_type": "code",
      "metadata": {
        "id": "9J1CrGmaoVqW",
        "colab": {
          "base_uri": "https://localhost:8080/"
        },
        "outputId": "89e2048f-bbfa-41d8-ecd5-43e31bfe92f1"
      },
      "source": [
        "model.summary()"
      ],
      "execution_count": null,
      "outputs": [
        {
          "output_type": "stream",
          "name": "stdout",
          "text": [
            "Model: \"sequential_4\"\n",
            "_________________________________________________________________\n",
            " Layer (type)                Output Shape              Param #   \n",
            "=================================================================\n",
            " dense_16 (Dense)            (None, 256)               2560      \n",
            "                                                                 \n",
            " dropout (Dropout)           (None, 256)               0         \n",
            "                                                                 \n",
            " dense_17 (Dense)            (None, 256)               65792     \n",
            "                                                                 \n",
            " dropout_1 (Dropout)         (None, 256)               0         \n",
            "                                                                 \n",
            " dense_18 (Dense)            (None, 256)               65792     \n",
            "                                                                 \n",
            " dropout_2 (Dropout)         (None, 256)               0         \n",
            "                                                                 \n",
            " dense_19 (Dense)            (None, 256)               65792     \n",
            "                                                                 \n",
            " dropout_3 (Dropout)         (None, 256)               0         \n",
            "                                                                 \n",
            " dense_20 (Dense)            (None, 1)                 257       \n",
            "                                                                 \n",
            "=================================================================\n",
            "Total params: 200,193\n",
            "Trainable params: 200,193\n",
            "Non-trainable params: 0\n",
            "_________________________________________________________________\n"
          ]
        }
      ]
    },
    {
      "cell_type": "code",
      "metadata": {
        "id": "NxqFfT-FoVqZ"
      },
      "source": [
        "# Defining the optimizer with a specific learning rate of 0.001\n",
        "optimizer = tf.keras.optimizers.RMSprop(0.001)\n",
        "\n",
        "# Compiling the model\n",
        "model.compile(loss='mse', optimizer=optimizer, metrics=['mae', 'mse'])"
      ],
      "execution_count": null,
      "outputs": []
    },
    {
      "cell_type": "code",
      "metadata": {
        "id": "FX1dimQPoVqb",
        "colab": {
          "base_uri": "https://localhost:8080/"
        },
        "outputId": "ff47d549-566b-4f3c-de63-08d35edeeca9"
      },
      "source": [
        "history_dropout = model.fit(normed_train_data, train_labels, epochs=100, validation_split=0.2,\n",
        "                          verbose=0, callbacks=[tfdocs.modeling.EpochDots()])"
      ],
      "execution_count": null,
      "outputs": [
        {
          "output_type": "stream",
          "name": "stdout",
          "text": [
            "\n",
            "Epoch: 0, loss:266.5303,  mae:13.7021,  mse:266.5303,  val_loss:25.9870,  val_mae:4.0334,  val_mse:25.9870,  \n",
            "...................................................................................................."
          ]
        }
      ]
    },
    {
      "cell_type": "code",
      "metadata": {
        "id": "RFNh8apZoVqd",
        "colab": {
          "base_uri": "https://localhost:8080/",
          "height": 206
        },
        "outputId": "a25d5896-8618-47e8-d29d-5014973400cf"
      },
      "source": [
        "hist_dropout = pd.DataFrame(history_dropout.history)\n",
        "hist_dropout['epoch'] = history_dropout.epoch\n",
        "hist_dropout.tail()"
      ],
      "execution_count": null,
      "outputs": [
        {
          "output_type": "execute_result",
          "data": {
            "text/plain": [
              "         loss       mae        mse   val_loss   val_mae    val_mse  epoch\n",
              "95  15.713987  3.057269  15.713987   8.222334  2.279400   8.222334     95\n",
              "96  15.040379  2.820279  15.040379  16.972252  3.131248  16.972252     96\n",
              "97  17.833731  3.233262  17.833731   9.956878  2.553271   9.956878     97\n",
              "98  15.014046  2.777890  15.014046  12.626328  2.580747  12.626328     98\n",
              "99  14.271253  2.787672  14.271253   7.633194  2.132814   7.633194     99"
            ],
            "text/html": [
              "\n",
              "  <div id=\"df-b65cf847-c4a3-488d-914d-4dcb5d503735\">\n",
              "    <div class=\"colab-df-container\">\n",
              "      <div>\n",
              "<style scoped>\n",
              "    .dataframe tbody tr th:only-of-type {\n",
              "        vertical-align: middle;\n",
              "    }\n",
              "\n",
              "    .dataframe tbody tr th {\n",
              "        vertical-align: top;\n",
              "    }\n",
              "\n",
              "    .dataframe thead th {\n",
              "        text-align: right;\n",
              "    }\n",
              "</style>\n",
              "<table border=\"1\" class=\"dataframe\">\n",
              "  <thead>\n",
              "    <tr style=\"text-align: right;\">\n",
              "      <th></th>\n",
              "      <th>loss</th>\n",
              "      <th>mae</th>\n",
              "      <th>mse</th>\n",
              "      <th>val_loss</th>\n",
              "      <th>val_mae</th>\n",
              "      <th>val_mse</th>\n",
              "      <th>epoch</th>\n",
              "    </tr>\n",
              "  </thead>\n",
              "  <tbody>\n",
              "    <tr>\n",
              "      <th>95</th>\n",
              "      <td>15.713987</td>\n",
              "      <td>3.057269</td>\n",
              "      <td>15.713987</td>\n",
              "      <td>8.222334</td>\n",
              "      <td>2.279400</td>\n",
              "      <td>8.222334</td>\n",
              "      <td>95</td>\n",
              "    </tr>\n",
              "    <tr>\n",
              "      <th>96</th>\n",
              "      <td>15.040379</td>\n",
              "      <td>2.820279</td>\n",
              "      <td>15.040379</td>\n",
              "      <td>16.972252</td>\n",
              "      <td>3.131248</td>\n",
              "      <td>16.972252</td>\n",
              "      <td>96</td>\n",
              "    </tr>\n",
              "    <tr>\n",
              "      <th>97</th>\n",
              "      <td>17.833731</td>\n",
              "      <td>3.233262</td>\n",
              "      <td>17.833731</td>\n",
              "      <td>9.956878</td>\n",
              "      <td>2.553271</td>\n",
              "      <td>9.956878</td>\n",
              "      <td>97</td>\n",
              "    </tr>\n",
              "    <tr>\n",
              "      <th>98</th>\n",
              "      <td>15.014046</td>\n",
              "      <td>2.777890</td>\n",
              "      <td>15.014046</td>\n",
              "      <td>12.626328</td>\n",
              "      <td>2.580747</td>\n",
              "      <td>12.626328</td>\n",
              "      <td>98</td>\n",
              "    </tr>\n",
              "    <tr>\n",
              "      <th>99</th>\n",
              "      <td>14.271253</td>\n",
              "      <td>2.787672</td>\n",
              "      <td>14.271253</td>\n",
              "      <td>7.633194</td>\n",
              "      <td>2.132814</td>\n",
              "      <td>7.633194</td>\n",
              "      <td>99</td>\n",
              "    </tr>\n",
              "  </tbody>\n",
              "</table>\n",
              "</div>\n",
              "      <button class=\"colab-df-convert\" onclick=\"convertToInteractive('df-b65cf847-c4a3-488d-914d-4dcb5d503735')\"\n",
              "              title=\"Convert this dataframe to an interactive table.\"\n",
              "              style=\"display:none;\">\n",
              "        \n",
              "  <svg xmlns=\"http://www.w3.org/2000/svg\" height=\"24px\"viewBox=\"0 0 24 24\"\n",
              "       width=\"24px\">\n",
              "    <path d=\"M0 0h24v24H0V0z\" fill=\"none\"/>\n",
              "    <path d=\"M18.56 5.44l.94 2.06.94-2.06 2.06-.94-2.06-.94-.94-2.06-.94 2.06-2.06.94zm-11 1L8.5 8.5l.94-2.06 2.06-.94-2.06-.94L8.5 2.5l-.94 2.06-2.06.94zm10 10l.94 2.06.94-2.06 2.06-.94-2.06-.94-.94-2.06-.94 2.06-2.06.94z\"/><path d=\"M17.41 7.96l-1.37-1.37c-.4-.4-.92-.59-1.43-.59-.52 0-1.04.2-1.43.59L10.3 9.45l-7.72 7.72c-.78.78-.78 2.05 0 2.83L4 21.41c.39.39.9.59 1.41.59.51 0 1.02-.2 1.41-.59l7.78-7.78 2.81-2.81c.8-.78.8-2.07 0-2.86zM5.41 20L4 18.59l7.72-7.72 1.47 1.35L5.41 20z\"/>\n",
              "  </svg>\n",
              "      </button>\n",
              "      \n",
              "  <style>\n",
              "    .colab-df-container {\n",
              "      display:flex;\n",
              "      flex-wrap:wrap;\n",
              "      gap: 12px;\n",
              "    }\n",
              "\n",
              "    .colab-df-convert {\n",
              "      background-color: #E8F0FE;\n",
              "      border: none;\n",
              "      border-radius: 50%;\n",
              "      cursor: pointer;\n",
              "      display: none;\n",
              "      fill: #1967D2;\n",
              "      height: 32px;\n",
              "      padding: 0 0 0 0;\n",
              "      width: 32px;\n",
              "    }\n",
              "\n",
              "    .colab-df-convert:hover {\n",
              "      background-color: #E2EBFA;\n",
              "      box-shadow: 0px 1px 2px rgba(60, 64, 67, 0.3), 0px 1px 3px 1px rgba(60, 64, 67, 0.15);\n",
              "      fill: #174EA6;\n",
              "    }\n",
              "\n",
              "    [theme=dark] .colab-df-convert {\n",
              "      background-color: #3B4455;\n",
              "      fill: #D2E3FC;\n",
              "    }\n",
              "\n",
              "    [theme=dark] .colab-df-convert:hover {\n",
              "      background-color: #434B5C;\n",
              "      box-shadow: 0px 1px 3px 1px rgba(0, 0, 0, 0.15);\n",
              "      filter: drop-shadow(0px 1px 2px rgba(0, 0, 0, 0.3));\n",
              "      fill: #FFFFFF;\n",
              "    }\n",
              "  </style>\n",
              "\n",
              "      <script>\n",
              "        const buttonEl =\n",
              "          document.querySelector('#df-b65cf847-c4a3-488d-914d-4dcb5d503735 button.colab-df-convert');\n",
              "        buttonEl.style.display =\n",
              "          google.colab.kernel.accessAllowed ? 'block' : 'none';\n",
              "\n",
              "        async function convertToInteractive(key) {\n",
              "          const element = document.querySelector('#df-b65cf847-c4a3-488d-914d-4dcb5d503735');\n",
              "          const dataTable =\n",
              "            await google.colab.kernel.invokeFunction('convertToInteractive',\n",
              "                                                     [key], {});\n",
              "          if (!dataTable) return;\n",
              "\n",
              "          const docLinkHtml = 'Like what you see? Visit the ' +\n",
              "            '<a target=\"_blank\" href=https://colab.research.google.com/notebooks/data_table.ipynb>data table notebook</a>'\n",
              "            + ' to learn more about interactive tables.';\n",
              "          element.innerHTML = '';\n",
              "          dataTable['output_type'] = 'display_data';\n",
              "          await google.colab.output.renderOutput(dataTable, element);\n",
              "          const docLink = document.createElement('div');\n",
              "          docLink.innerHTML = docLinkHtml;\n",
              "          element.appendChild(docLink);\n",
              "        }\n",
              "      </script>\n",
              "    </div>\n",
              "  </div>\n",
              "  "
            ]
          },
          "metadata": {},
          "execution_count": 70
        }
      ]
    },
    {
      "cell_type": "code",
      "metadata": {
        "id": "AaEiMM4YoVqg",
        "colab": {
          "base_uri": "https://localhost:8080/",
          "height": 473
        },
        "outputId": "9327cb03-4e89-43a3-9a07-32c0b8504f08"
      },
      "source": [
        "plotter.plot({'Dropout Model': history_dropout}, metric=\"mae\")\n",
        "plt.ylim([0, 10])\n",
        "plt.ylabel('MAE [MPG]')"
      ],
      "execution_count": null,
      "outputs": [
        {
          "output_type": "execute_result",
          "data": {
            "text/plain": [
              "Text(0, 0.5, 'MAE [MPG]')"
            ]
          },
          "metadata": {},
          "execution_count": 71
        },
        {
          "output_type": "display_data",
          "data": {
            "text/plain": [
              "<Figure size 640x480 with 1 Axes>"
            ],
            "image/png": "[encoded data removed]"
          },
          "metadata": {}
        }
      ]
    },
    {
      "cell_type": "code",
      "metadata": {
        "id": "KBg6f1qyoVqi",
        "colab": {
          "base_uri": "https://localhost:8080/"
        },
        "outputId": "0bee465d-4317-47cf-ed7e-88672732616d"
      },
      "source": [
        "loss, mae, mse = model.evaluate(normed_test_data, test_labels, verbose=2)\n",
        "\n",
        "print(\"Testing set Mean Abs Error: {:5.2f} MPG\".format(mae))"
      ],
      "execution_count": null,
      "outputs": [
        {
          "output_type": "stream",
          "name": "stdout",
          "text": [
            "3/3 - 0s - loss: 6.7590 - mae: 2.0862 - mse: 6.7590 - 27ms/epoch - 9ms/step\n",
            "Testing set Mean Abs Error:  2.09 MPG\n"
          ]
        }
      ]
    },
    {
      "cell_type": "markdown",
      "metadata": {
        "id": "1ZfYZf8HoVql"
      },
      "source": [
        "- After adding the dropout the model is generalizing well on the test set.\n",
        "\n",
        "- The performance is better than the larger model."
      ]
    },
    {
      "cell_type": "markdown",
      "metadata": {
        "id": "PJG2Z7U9rjXf"
      },
      "source": [
        "<a name=section44></a>\n",
        "\n",
        "### **4.4 Combined L2 + Dropout**"
      ]
    },
    {
      "cell_type": "markdown",
      "metadata": {
        "id": "iq12V6FMrpMq"
      },
      "source": [
        "- We can also combine both L2 regularization and Dropout in a single model."
      ]
    },
    {
      "cell_type": "code",
      "metadata": {
        "id": "yuPSrnv9spcu"
      },
      "source": [
        "from tensorflow.keras import regularizers"
      ],
      "execution_count": null,
      "outputs": []
    },
    {
      "cell_type": "code",
      "metadata": {
        "id": "5l0tGP6LsB1O"
      },
      "source": [
        "model = keras.Sequential([layers.Dense(256, activation='relu', kernel_regularizer=regularizers.l2(0.001), input_shape=[len(train_dataset.keys())]),\n",
        "                          layers.Dropout(0.2),\n",
        "                          layers.Dense(256, activation='relu', kernel_regularizer=regularizers.l2(0.001)),\n",
        "                          layers.Dropout(0.2),\n",
        "                          layers.Dense(256, activation='relu', kernel_regularizer=regularizers.l2(0.001)),\n",
        "                          layers.Dropout(0.2),\n",
        "                          layers.Dense(256, activation='relu', kernel_regularizer=regularizers.l2(0.001)),\n",
        "                          layers.Dropout(0.2),\n",
        "                          layers.Dense(1)])"
      ],
      "execution_count": null,
      "outputs": []
    },
    {
      "cell_type": "code",
      "metadata": {
        "id": "r_8K3ZeJsB1S",
        "colab": {
          "base_uri": "https://localhost:8080/"
        },
        "outputId": "3597859b-4f00-468c-a9b7-9e61251c665d"
      },
      "source": [
        "model.summary()"
      ],
      "execution_count": null,
      "outputs": [
        {
          "output_type": "stream",
          "name": "stdout",
          "text": [
            "Model: \"sequential_5\"\n",
            "_________________________________________________________________\n",
            " Layer (type)                Output Shape              Param #   \n",
            "=================================================================\n",
            " dense_21 (Dense)            (None, 256)               2560      \n",
            "                                                                 \n",
            " dropout_4 (Dropout)         (None, 256)               0         \n",
            "                                                                 \n",
            " dense_22 (Dense)            (None, 256)               65792     \n",
            "                                                                 \n",
            " dropout_5 (Dropout)         (None, 256)               0         \n",
            "                                                                 \n",
            " dense_23 (Dense)            (None, 256)               65792     \n",
            "                                                                 \n",
            " dropout_6 (Dropout)         (None, 256)               0         \n",
            "                                                                 \n",
            " dense_24 (Dense)            (None, 256)               65792     \n",
            "                                                                 \n",
            " dropout_7 (Dropout)         (None, 256)               0         \n",
            "                                                                 \n",
            " dense_25 (Dense)            (None, 1)                 257       \n",
            "                                                                 \n",
            "=================================================================\n",
            "Total params: 200,193\n",
            "Trainable params: 200,193\n",
            "Non-trainable params: 0\n",
            "_________________________________________________________________\n"
          ]
        }
      ]
    },
    {
      "cell_type": "code",
      "metadata": {
        "id": "ixT24N15sB1W"
      },
      "source": [
        "# Defining the optimizer with a specific learning rate of 0.001\n",
        "optimizer = tf.keras.optimizers.RMSprop(0.001)\n",
        "\n",
        "# Compiling the model\n",
        "model.compile(loss='mse', optimizer=optimizer, metrics=['mae', 'mse'])"
      ],
      "execution_count": null,
      "outputs": []
    },
    {
      "cell_type": "code",
      "metadata": {
        "id": "ukwXGeaBsB1b",
        "colab": {
          "base_uri": "https://localhost:8080/"
        },
        "outputId": "ff1f0d8c-c372-4fec-9c7c-b30bef927c03"
      },
      "source": [
        "history_l2_dropout = model.fit(normed_train_data, train_labels, epochs=100, validation_split=0.2,\n",
        "                          verbose=0, callbacks=[tfdocs.modeling.EpochDots()])"
      ],
      "execution_count": null,
      "outputs": [
        {
          "output_type": "stream",
          "name": "stdout",
          "text": [
            "\n",
            "Epoch: 0, loss:278.1068,  mae:13.4513,  mse:277.3155,  val_loss:43.2393,  val_mae:5.5976,  val_mse:42.4447,  \n",
            "...................................................................................................."
          ]
        }
      ]
    },
    {
      "cell_type": "code",
      "metadata": {
        "id": "25SnQ-RdsB1d",
        "colab": {
          "base_uri": "https://localhost:8080/",
          "height": 206
        },
        "outputId": "91ffcb69-6710-4ef9-b024-8c5606ba3249"
      },
      "source": [
        "hist_l2_dropout = pd.DataFrame(history_l2_dropout.history)\n",
        "hist_l2_dropout['epoch'] = history_l2_dropout.epoch\n",
        "hist_l2_dropout.tail()"
      ],
      "execution_count": null,
      "outputs": [
        {
          "output_type": "execute_result",
          "data": {
            "text/plain": [
              "         loss       mae        mse   val_loss   val_mae    val_mse  epoch\n",
              "95  18.145000  3.110431  17.613674   8.240330  2.122266   7.708195     95\n",
              "96  15.901693  2.815550  15.370279   9.966895  2.493783   9.435950     96\n",
              "97  11.699930  2.544046  11.168323  18.631081  3.626693  18.101120     97\n",
              "98  14.538339  2.828836  14.007345   7.904172  2.095805   7.373020     98\n",
              "99  15.875154  2.882911  15.344559   9.452387  2.395772   8.921092     99"
            ],
            "text/html": [
              "\n",
              "  <div id=\"df-87624fe1-60a1-4f43-b70a-ab6c8d0fec38\">\n",
              "    <div class=\"colab-df-container\">\n",
              "      <div>\n",
              "<style scoped>\n",
              "    .dataframe tbody tr th:only-of-type {\n",
              "        vertical-align: middle;\n",
              "    }\n",
              "\n",
              "    .dataframe tbody tr th {\n",
              "        vertical-align: top;\n",
              "    }\n",
              "\n",
              "    .dataframe thead th {\n",
              "        text-align: right;\n",
              "    }\n",
              "</style>\n",
              "<table border=\"1\" class=\"dataframe\">\n",
              "  <thead>\n",
              "    <tr style=\"text-align: right;\">\n",
              "      <th></th>\n",
              "      <th>loss</th>\n",
              "      <th>mae</th>\n",
              "      <th>mse</th>\n",
              "      <th>val_loss</th>\n",
              "      <th>val_mae</th>\n",
              "      <th>val_mse</th>\n",
              "      <th>epoch</th>\n",
              "    </tr>\n",
              "  </thead>\n",
              "  <tbody>\n",
              "    <tr>\n",
              "      <th>95</th>\n",
              "      <td>18.145000</td>\n",
              "      <td>3.110431</td>\n",
              "      <td>17.613674</td>\n",
              "      <td>8.240330</td>\n",
              "      <td>2.122266</td>\n",
              "      <td>7.708195</td>\n",
              "      <td>95</td>\n",
              "    </tr>\n",
              "    <tr>\n",
              "      <th>96</th>\n",
              "      <td>15.901693</td>\n",
              "      <td>2.815550</td>\n",
              "      <td>15.370279</td>\n",
              "      <td>9.966895</td>\n",
              "      <td>2.493783</td>\n",
              "      <td>9.435950</td>\n",
              "      <td>96</td>\n",
              "    </tr>\n",
              "    <tr>\n",
              "      <th>97</th>\n",
              "      <td>11.699930</td>\n",
              "      <td>2.544046</td>\n",
              "      <td>11.168323</td>\n",
              "      <td>18.631081</td>\n",
              "      <td>3.626693</td>\n",
              "      <td>18.101120</td>\n",
              "      <td>97</td>\n",
              "    </tr>\n",
              "    <tr>\n",
              "      <th>98</th>\n",
              "      <td>14.538339</td>\n",
              "      <td>2.828836</td>\n",
              "      <td>14.007345</td>\n",
              "      <td>7.904172</td>\n",
              "      <td>2.095805</td>\n",
              "      <td>7.373020</td>\n",
              "      <td>98</td>\n",
              "    </tr>\n",
              "    <tr>\n",
              "      <th>99</th>\n",
              "      <td>15.875154</td>\n",
              "      <td>2.882911</td>\n",
              "      <td>15.344559</td>\n",
              "      <td>9.452387</td>\n",
              "      <td>2.395772</td>\n",
              "      <td>8.921092</td>\n",
              "      <td>99</td>\n",
              "    </tr>\n",
              "  </tbody>\n",
              "</table>\n",
              "</div>\n",
              "      <button class=\"colab-df-convert\" onclick=\"convertToInteractive('df-87624fe1-60a1-4f43-b70a-ab6c8d0fec38')\"\n",
              "              title=\"Convert this dataframe to an interactive table.\"\n",
              "              style=\"display:none;\">\n",
              "        \n",
              "  <svg xmlns=\"http://www.w3.org/2000/svg\" height=\"24px\"viewBox=\"0 0 24 24\"\n",
              "       width=\"24px\">\n",
              "    <path d=\"M0 0h24v24H0V0z\" fill=\"none\"/>\n",
              "    <path d=\"M18.56 5.44l.94 2.06.94-2.06 2.06-.94-2.06-.94-.94-2.06-.94 2.06-2.06.94zm-11 1L8.5 8.5l.94-2.06 2.06-.94-2.06-.94L8.5 2.5l-.94 2.06-2.06.94zm10 10l.94 2.06.94-2.06 2.06-.94-2.06-.94-.94-2.06-.94 2.06-2.06.94z\"/><path d=\"M17.41 7.96l-1.37-1.37c-.4-.4-.92-.59-1.43-.59-.52 0-1.04.2-1.43.59L10.3 9.45l-7.72 7.72c-.78.78-.78 2.05 0 2.83L4 21.41c.39.39.9.59 1.41.59.51 0 1.02-.2 1.41-.59l7.78-7.78 2.81-2.81c.8-.78.8-2.07 0-2.86zM5.41 20L4 18.59l7.72-7.72 1.47 1.35L5.41 20z\"/>\n",
              "  </svg>\n",
              "      </button>\n",
              "      \n",
              "  <style>\n",
              "    .colab-df-container {\n",
              "      display:flex;\n",
              "      flex-wrap:wrap;\n",
              "      gap: 12px;\n",
              "    }\n",
              "\n",
              "    .colab-df-convert {\n",
              "      background-color: #E8F0FE;\n",
              "      border: none;\n",
              "      border-radius: 50%;\n",
              "      cursor: pointer;\n",
              "      display: none;\n",
              "      fill: #1967D2;\n",
              "      height: 32px;\n",
              "      padding: 0 0 0 0;\n",
              "      width: 32px;\n",
              "    }\n",
              "\n",
              "    .colab-df-convert:hover {\n",
              "      background-color: #E2EBFA;\n",
              "      box-shadow: 0px 1px 2px rgba(60, 64, 67, 0.3), 0px 1px 3px 1px rgba(60, 64, 67, 0.15);\n",
              "      fill: #174EA6;\n",
              "    }\n",
              "\n",
              "    [theme=dark] .colab-df-convert {\n",
              "      background-color: #3B4455;\n",
              "      fill: #D2E3FC;\n",
              "    }\n",
              "\n",
              "    [theme=dark] .colab-df-convert:hover {\n",
              "      background-color: #434B5C;\n",
              "      box-shadow: 0px 1px 3px 1px rgba(0, 0, 0, 0.15);\n",
              "      filter: drop-shadow(0px 1px 2px rgba(0, 0, 0, 0.3));\n",
              "      fill: #FFFFFF;\n",
              "    }\n",
              "  </style>\n",
              "\n",
              "      <script>\n",
              "        const buttonEl =\n",
              "          document.querySelector('#df-87624fe1-60a1-4f43-b70a-ab6c8d0fec38 button.colab-df-convert');\n",
              "        buttonEl.style.display =\n",
              "          google.colab.kernel.accessAllowed ? 'block' : 'none';\n",
              "\n",
              "        async function convertToInteractive(key) {\n",
              "          const element = document.querySelector('#df-87624fe1-60a1-4f43-b70a-ab6c8d0fec38');\n",
              "          const dataTable =\n",
              "            await google.colab.kernel.invokeFunction('convertToInteractive',\n",
              "                                                     [key], {});\n",
              "          if (!dataTable) return;\n",
              "\n",
              "          const docLinkHtml = 'Like what you see? Visit the ' +\n",
              "            '<a target=\"_blank\" href=https://colab.research.google.com/notebooks/data_table.ipynb>data table notebook</a>'\n",
              "            + ' to learn more about interactive tables.';\n",
              "          element.innerHTML = '';\n",
              "          dataTable['output_type'] = 'display_data';\n",
              "          await google.colab.output.renderOutput(dataTable, element);\n",
              "          const docLink = document.createElement('div');\n",
              "          docLink.innerHTML = docLinkHtml;\n",
              "          element.appendChild(docLink);\n",
              "        }\n",
              "      </script>\n",
              "    </div>\n",
              "  </div>\n",
              "  "
            ]
          },
          "metadata": {},
          "execution_count": 78
        }
      ]
    },
    {
      "cell_type": "code",
      "metadata": {
        "id": "qQuKnCV6sB1g",
        "colab": {
          "base_uri": "https://localhost:8080/",
          "height": 473
        },
        "outputId": "af93c463-ab3c-48a1-d7c5-220ebe8d5a82"
      },
      "source": [
        "plotter.plot({'L2 + Dropout Model': history_l2_dropout}, metric=\"mae\")\n",
        "plt.ylim([0, 10])\n",
        "plt.ylabel('MAE [MPG]')"
      ],
      "execution_count": null,
      "outputs": [
        {
          "output_type": "execute_result",
          "data": {
            "text/plain": [
              "Text(0, 0.5, 'MAE [MPG]')"
            ]
          },
          "metadata": {},
          "execution_count": 79
        },
        {
          "output_type": "display_data",
          "data": {
            "text/plain": [
              "<Figure size 640x480 with 1 Axes>"
            ],
            "image/png": "[encoded data removed]"
          },
          "metadata": {}
        }
      ]
    },
    {
      "cell_type": "code",
      "metadata": {
        "id": "1-v5wXeLsB1j",
        "colab": {
          "base_uri": "https://localhost:8080/"
        },
        "outputId": "cd37ea06-48dc-4f29-bf34-f0649e3a2539"
      },
      "source": [
        "loss, mae, mse = model.evaluate(normed_test_data, test_labels, verbose=2)\n",
        "\n",
        "print(\"Testing set Mean Abs Error: {:5.2f} MPG\".format(mae))"
      ],
      "execution_count": null,
      "outputs": [
        {
          "output_type": "stream",
          "name": "stdout",
          "text": [
            "3/3 - 0s - loss: 8.8764 - mae: 2.2493 - mse: 8.3451 - 27ms/epoch - 9ms/step\n",
            "Testing set Mean Abs Error:  2.25 MPG\n"
          ]
        }
      ]
    },
    {
      "cell_type": "markdown",
      "metadata": {
        "id": "tNui1VYwsB1l"
      },
      "source": [
        "- The combined L2 + Dropout model is also outperforming the larger model.\n",
        "\n",
        "- We can attain a better score if we apply the Early Stopping callback to this model."
      ]
    },
    {
      "cell_type": "markdown",
      "metadata": {
        "id": "LakhW-FJJknp"
      },
      "source": [
        "<a name=section45></a>\n",
        "\n",
        "### **4.5 Batch Normalization**"
      ]
    },
    {
      "cell_type": "markdown",
      "metadata": {
        "id": "6sE1VR5qJ1sy"
      },
      "source": [
        "- Batch normalization is a technique for training very deep neural networks.\n",
        "\n",
        "    - It **normalizes** the **activations** of the previous layer at each batch.\n",
        "\n",
        "    - It applies a transformation that maintains the mean activation close to 0 and the activation standard deviation close to 1.\n",
        "\n",
        "- This has the effect of stabilizing the learning process and dramatically reducing the number of training epochs required to train deep networks."
      ]
    },
    {
      "cell_type": "markdown",
      "metadata": {
        "id": "a4tJFLNixvmc"
      },
      "source": [
        "- Batch normalization may be used on the inputs to the layer before or after the activation function in the previous layer.\n",
        "\n",
        "- It may be more appropriate **after** the activation function for **s-shaped** functions like the **hyperbolic tangent** and **logistic** function.\n",
        "\n",
        "- It may be more appropriate **before** the activation function for activations that may result in **non-Gaussian** distributions like the **rectified linear** activation function, the modern default for most network types."
      ]
    },
    {
      "cell_type": "markdown",
      "metadata": {
        "id": "vLiKHADAzSYr"
      },
      "source": [
        "- Since we are using **ReLU** activation function in our model, we will use the Batch Normalization layer **prior** to the ReLU layer."
      ]
    },
    {
      "cell_type": "code",
      "metadata": {
        "id": "nR1ke4p4u2gf"
      },
      "source": [
        "model = keras.Sequential([layers.Dense(256, input_shape=[len(train_dataset.keys())]),\n",
        "                          layers.BatchNormalization(),\n",
        "                          layers.ReLU(),\n",
        "                          layers.Dense(256),\n",
        "                          layers.BatchNormalization(),\n",
        "                          layers.ReLU(),\n",
        "                          layers.Dense(256),\n",
        "                          layers.BatchNormalization(),\n",
        "                          layers.ReLU(),\n",
        "                          layers.Dense(256),\n",
        "                          layers.BatchNormalization(),\n",
        "                          layers.ReLU(),\n",
        "                          layers.Dense(1)])"
      ],
      "execution_count": null,
      "outputs": []
    },
    {
      "cell_type": "code",
      "metadata": {
        "id": "U1hNrhqju2gn",
        "colab": {
          "base_uri": "https://localhost:8080/"
        },
        "outputId": "df7966ad-71ee-4003-a35a-a20520829351"
      },
      "source": [
        "model.summary()"
      ],
      "execution_count": null,
      "outputs": [
        {
          "output_type": "stream",
          "name": "stdout",
          "text": [
            "Model: \"sequential_6\"\n",
            "_________________________________________________________________\n",
            " Layer (type)                Output Shape              Param #   \n",
            "=================================================================\n",
            " dense_26 (Dense)            (None, 256)               2560      \n",
            "                                                                 \n",
            " batch_normalization (BatchN  (None, 256)              1024      \n",
            " ormalization)                                                   \n",
            "                                                                 \n",
            " re_lu (ReLU)                (None, 256)               0         \n",
            "                                                                 \n",
            " dense_27 (Dense)            (None, 256)               65792     \n",
            "                                                                 \n",
            " batch_normalization_1 (Batc  (None, 256)              1024      \n",
            " hNormalization)                                                 \n",
            "                                                                 \n",
            " re_lu_1 (ReLU)              (None, 256)               0         \n",
            "                                                                 \n",
            " dense_28 (Dense)            (None, 256)               65792     \n",
            "                                                                 \n",
            " batch_normalization_2 (Batc  (None, 256)              1024      \n",
            " hNormalization)                                                 \n",
            "                                                                 \n",
            " re_lu_2 (ReLU)              (None, 256)               0         \n",
            "                                                                 \n",
            " dense_29 (Dense)            (None, 256)               65792     \n",
            "                                                                 \n",
            " batch_normalization_3 (Batc  (None, 256)              1024      \n",
            " hNormalization)                                                 \n",
            "                                                                 \n",
            " re_lu_3 (ReLU)              (None, 256)               0         \n",
            "                                                                 \n",
            " dense_30 (Dense)            (None, 1)                 257       \n",
            "                                                                 \n",
            "=================================================================\n",
            "Total params: 204,289\n",
            "Trainable params: 202,241\n",
            "Non-trainable params: 2,048\n",
            "_________________________________________________________________\n"
          ]
        }
      ]
    },
    {
      "cell_type": "code",
      "metadata": {
        "id": "FRtcyl_0u2gx"
      },
      "source": [
        "# Defining the optimizer with a specific learning rate of 0.001\n",
        "optimizer = tf.keras.optimizers.RMSprop(0.001)\n",
        "\n",
        "# Compiling the model\n",
        "model.compile(loss='mse', optimizer=optimizer, metrics=['mae', 'mse'])"
      ],
      "execution_count": null,
      "outputs": []
    },
    {
      "cell_type": "code",
      "metadata": {
        "id": "Cr-oPvWru2g2",
        "colab": {
          "base_uri": "https://localhost:8080/"
        },
        "outputId": "09692aa1-d4ae-4a61-da80-6780ab003d16"
      },
      "source": [
        "history_batch_norm = model.fit(normed_train_data, train_labels, epochs=100, validation_split=0.2,\n",
        "                          verbose=0, callbacks=[tfdocs.modeling.EpochDots()])"
      ],
      "execution_count": null,
      "outputs": [
        {
          "output_type": "stream",
          "name": "stdout",
          "text": [
            "\n",
            "Epoch: 0, loss:542.8503,  mae:22.7135,  mse:542.8503,  val_loss:595.5681,  val_mae:23.3521,  val_mse:595.5681,  \n",
            "...................................................................................................."
          ]
        }
      ]
    },
    {
      "cell_type": "code",
      "metadata": {
        "id": "b4SQpMuSu2g8",
        "colab": {
          "base_uri": "https://localhost:8080/",
          "height": 206
        },
        "outputId": "d4c227de-fded-464a-c34e-dd29832442ff"
      },
      "source": [
        "hist_batch_norm = pd.DataFrame(history_batch_norm.history)\n",
        "hist_batch_norm['epoch'] = history_batch_norm.epoch\n",
        "hist_batch_norm.tail()"
      ],
      "execution_count": null,
      "outputs": [
        {
          "output_type": "execute_result",
          "data": {
            "text/plain": [
              "        loss       mae       mse   val_loss   val_mae    val_mse  epoch\n",
              "95  5.463299  1.758925  5.463299   8.344393  2.262089   8.344393     95\n",
              "96  5.810547  1.580365  5.810547   8.333886  2.177690   8.333886     96\n",
              "97  4.262318  1.498479  4.262318   8.220887  2.154118   8.220887     97\n",
              "98  5.005525  1.625930  5.005525   7.028554  1.931538   7.028554     98\n",
              "99  3.768928  1.378606  3.768928  10.117180  2.421383  10.117180     99"
            ],
            "text/html": [
              "\n",
              "  <div id=\"df-52637c7b-1ecb-41e5-9909-3fbbdbcbc923\">\n",
              "    <div class=\"colab-df-container\">\n",
              "      <div>\n",
              "<style scoped>\n",
              "    .dataframe tbody tr th:only-of-type {\n",
              "        vertical-align: middle;\n",
              "    }\n",
              "\n",
              "    .dataframe tbody tr th {\n",
              "        vertical-align: top;\n",
              "    }\n",
              "\n",
              "    .dataframe thead th {\n",
              "        text-align: right;\n",
              "    }\n",
              "</style>\n",
              "<table border=\"1\" class=\"dataframe\">\n",
              "  <thead>\n",
              "    <tr style=\"text-align: right;\">\n",
              "      <th></th>\n",
              "      <th>loss</th>\n",
              "      <th>mae</th>\n",
              "      <th>mse</th>\n",
              "      <th>val_loss</th>\n",
              "      <th>val_mae</th>\n",
              "      <th>val_mse</th>\n",
              "      <th>epoch</th>\n",
              "    </tr>\n",
              "  </thead>\n",
              "  <tbody>\n",
              "    <tr>\n",
              "      <th>95</th>\n",
              "      <td>5.463299</td>\n",
              "      <td>1.758925</td>\n",
              "      <td>5.463299</td>\n",
              "      <td>8.344393</td>\n",
              "      <td>2.262089</td>\n",
              "      <td>8.344393</td>\n",
              "      <td>95</td>\n",
              "    </tr>\n",
              "    <tr>\n",
              "      <th>96</th>\n",
              "      <td>5.810547</td>\n",
              "      <td>1.580365</td>\n",
              "      <td>5.810547</td>\n",
              "      <td>8.333886</td>\n",
              "      <td>2.177690</td>\n",
              "      <td>8.333886</td>\n",
              "      <td>96</td>\n",
              "    </tr>\n",
              "    <tr>\n",
              "      <th>97</th>\n",
              "      <td>4.262318</td>\n",
              "      <td>1.498479</td>\n",
              "      <td>4.262318</td>\n",
              "      <td>8.220887</td>\n",
              "      <td>2.154118</td>\n",
              "      <td>8.220887</td>\n",
              "      <td>97</td>\n",
              "    </tr>\n",
              "    <tr>\n",
              "      <th>98</th>\n",
              "      <td>5.005525</td>\n",
              "      <td>1.625930</td>\n",
              "      <td>5.005525</td>\n",
              "      <td>7.028554</td>\n",
              "      <td>1.931538</td>\n",
              "      <td>7.028554</td>\n",
              "      <td>98</td>\n",
              "    </tr>\n",
              "    <tr>\n",
              "      <th>99</th>\n",
              "      <td>3.768928</td>\n",
              "      <td>1.378606</td>\n",
              "      <td>3.768928</td>\n",
              "      <td>10.117180</td>\n",
              "      <td>2.421383</td>\n",
              "      <td>10.117180</td>\n",
              "      <td>99</td>\n",
              "    </tr>\n",
              "  </tbody>\n",
              "</table>\n",
              "</div>\n",
              "      <button class=\"colab-df-convert\" onclick=\"convertToInteractive('df-52637c7b-1ecb-41e5-9909-3fbbdbcbc923')\"\n",
              "              title=\"Convert this dataframe to an interactive table.\"\n",
              "              style=\"display:none;\">\n",
              "        \n",
              "  <svg xmlns=\"http://www.w3.org/2000/svg\" height=\"24px\"viewBox=\"0 0 24 24\"\n",
              "       width=\"24px\">\n",
              "    <path d=\"M0 0h24v24H0V0z\" fill=\"none\"/>\n",
              "    <path d=\"M18.56 5.44l.94 2.06.94-2.06 2.06-.94-2.06-.94-.94-2.06-.94 2.06-2.06.94zm-11 1L8.5 8.5l.94-2.06 2.06-.94-2.06-.94L8.5 2.5l-.94 2.06-2.06.94zm10 10l.94 2.06.94-2.06 2.06-.94-2.06-.94-.94-2.06-.94 2.06-2.06.94z\"/><path d=\"M17.41 7.96l-1.37-1.37c-.4-.4-.92-.59-1.43-.59-.52 0-1.04.2-1.43.59L10.3 9.45l-7.72 7.72c-.78.78-.78 2.05 0 2.83L4 21.41c.39.39.9.59 1.41.59.51 0 1.02-.2 1.41-.59l7.78-7.78 2.81-2.81c.8-.78.8-2.07 0-2.86zM5.41 20L4 18.59l7.72-7.72 1.47 1.35L5.41 20z\"/>\n",
              "  </svg>\n",
              "      </button>\n",
              "      \n",
              "  <style>\n",
              "    .colab-df-container {\n",
              "      display:flex;\n",
              "      flex-wrap:wrap;\n",
              "      gap: 12px;\n",
              "    }\n",
              "\n",
              "    .colab-df-convert {\n",
              "      background-color: #E8F0FE;\n",
              "      border: none;\n",
              "      border-radius: 50%;\n",
              "      cursor: pointer;\n",
              "      display: none;\n",
              "      fill: #1967D2;\n",
              "      height: 32px;\n",
              "      padding: 0 0 0 0;\n",
              "      width: 32px;\n",
              "    }\n",
              "\n",
              "    .colab-df-convert:hover {\n",
              "      background-color: #E2EBFA;\n",
              "      box-shadow: 0px 1px 2px rgba(60, 64, 67, 0.3), 0px 1px 3px 1px rgba(60, 64, 67, 0.15);\n",
              "      fill: #174EA6;\n",
              "    }\n",
              "\n",
              "    [theme=dark] .colab-df-convert {\n",
              "      background-color: #3B4455;\n",
              "      fill: #D2E3FC;\n",
              "    }\n",
              "\n",
              "    [theme=dark] .colab-df-convert:hover {\n",
              "      background-color: #434B5C;\n",
              "      box-shadow: 0px 1px 3px 1px rgba(0, 0, 0, 0.15);\n",
              "      filter: drop-shadow(0px 1px 2px rgba(0, 0, 0, 0.3));\n",
              "      fill: #FFFFFF;\n",
              "    }\n",
              "  </style>\n",
              "\n",
              "      <script>\n",
              "        const buttonEl =\n",
              "          document.querySelector('#df-52637c7b-1ecb-41e5-9909-3fbbdbcbc923 button.colab-df-convert');\n",
              "        buttonEl.style.display =\n",
              "          google.colab.kernel.accessAllowed ? 'block' : 'none';\n",
              "\n",
              "        async function convertToInteractive(key) {\n",
              "          const element = document.querySelector('#df-52637c7b-1ecb-41e5-9909-3fbbdbcbc923');\n",
              "          const dataTable =\n",
              "            await google.colab.kernel.invokeFunction('convertToInteractive',\n",
              "                                                     [key], {});\n",
              "          if (!dataTable) return;\n",
              "\n",
              "          const docLinkHtml = 'Like what you see? Visit the ' +\n",
              "            '<a target=\"_blank\" href=https://colab.research.google.com/notebooks/data_table.ipynb>data table notebook</a>'\n",
              "            + ' to learn more about interactive tables.';\n",
              "          element.innerHTML = '';\n",
              "          dataTable['output_type'] = 'display_data';\n",
              "          await google.colab.output.renderOutput(dataTable, element);\n",
              "          const docLink = document.createElement('div');\n",
              "          docLink.innerHTML = docLinkHtml;\n",
              "          element.appendChild(docLink);\n",
              "        }\n",
              "      </script>\n",
              "    </div>\n",
              "  </div>\n",
              "  "
            ]
          },
          "metadata": {},
          "execution_count": 85
        }
      ]
    },
    {
      "cell_type": "code",
      "metadata": {
        "id": "EDbr0Mw9u2hD",
        "colab": {
          "base_uri": "https://localhost:8080/",
          "height": 473
        },
        "outputId": "49a12382-da90-4aef-994e-a9c3b012f162"
      },
      "source": [
        "plotter.plot({'Batch Normalization Model': history_batch_norm}, metric=\"mae\")\n",
        "plt.ylim([0, 10])\n",
        "plt.ylabel('MAE [MPG]')"
      ],
      "execution_count": null,
      "outputs": [
        {
          "output_type": "execute_result",
          "data": {
            "text/plain": [
              "Text(0, 0.5, 'MAE [MPG]')"
            ]
          },
          "metadata": {},
          "execution_count": 86
        },
        {
          "output_type": "display_data",
          "data": {
            "text/plain": [
              "<Figure size 640x480 with 1 Axes>"
            ],
            "image/png": "[encoded data removed]"
          },
          "metadata": {}
        }
      ]
    },
    {
      "cell_type": "code",
      "metadata": {
        "id": "-85In5bfu2hO",
        "colab": {
          "base_uri": "https://localhost:8080/"
        },
        "outputId": "3efe78f5-05bd-4a33-926c-c2de66068d5c"
      },
      "source": [
        "loss, mae, mse = model.evaluate(normed_test_data, test_labels, verbose=2)\n",
        "\n",
        "print(\"Testing set Mean Abs Error: {:5.2f} MPG\".format(mae))"
      ],
      "execution_count": null,
      "outputs": [
        {
          "output_type": "stream",
          "name": "stdout",
          "text": [
            "3/3 - 0s - loss: 7.6232 - mae: 2.1474 - mse: 7.6232 - 32ms/epoch - 11ms/step\n",
            "Testing set Mean Abs Error:  2.15 MPG\n"
          ]
        }
      ]
    },
    {
      "cell_type": "markdown",
      "metadata": {
        "id": "qQY3hNH3u2hV"
      },
      "source": [
        "- The Batch Normalization model attains the **lowest test set error**.\n",
        "\n",
        "- We have significantly **reduced** the **overfitting**.\n",
        "\n",
        "- It is generalizing well on the test set."
      ]
    },
    {
      "cell_type": "markdown",
      "metadata": {
        "id": "ReIkODlW1H3Q"
      },
      "source": [
        "- We can also incorporate the Early Stopping callback to this model to stop training at an appropriate epoch."
      ]
    },
    {
      "cell_type": "markdown",
      "metadata": {
        "id": "vgGQuV-yqYZH"
      },
      "source": [
        "<a name=section5></a>\n",
        "\n",
        "----\n",
        "## **5. Conclusion**\n",
        "----\n",
        "We studied a few techniques to handle a regression problem.\n",
        "\n",
        "- **Mean Squared Error** (MSE) is a common loss function used for regression problems (different loss functions are used for classification problems).\n",
        "\n",
        "- Similarly, evaluation metrics used for regression differ from classification.\n",
        "\n",
        "  - A common regression metric is **Mean Absolute Error** (MAE).\n",
        "\n",
        "- When numeric input data features have values with different ranges, each **feature** should be **scaled** independently to the same range.\n",
        "\n",
        "- If there is not much training data, one technique is to prefer a **small network** with few hidden layers to avoid overfitting.\n",
        "\n",
        "- **Early stopping** is a useful technique to prevent overfitting.\n",
        "\n",
        "- We can improve the performance of a model by increasing the number of hidden layers and the hidden units in the model.\n",
        "\n",
        "- Regularization Techniques to reduce overfitting are:\n",
        "\n",
        "  - **Weight Regularization**\n",
        "\n",
        "  - **Dropout**\n",
        "\n",
        "  - **Batch Normalization**"
      ]
    }
  ]
}